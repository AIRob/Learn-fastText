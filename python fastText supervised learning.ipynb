{
 "cells": [
  {
   "cell_type": "markdown",
   "metadata": {},
   "source": [
    "This dataset consists of reviews of fine foods from amazon. The data span a period of more than 10 years, including all ~500,000 reviews up to October 2012. Reviews include product and user information, ratings, and a plain text review. It also includes reviews from all other Amazon categories.\n",
    "\n",
    "You can download the dataset from kaggle\n",
    "\n",
    "https://www.kaggle.com/snap/amazon-fine-food-reviews\n"
   ]
  },
  {
   "cell_type": "markdown",
   "metadata": {},
   "source": [
    "The purpose of this model is to show an example of using fastText model for some supervised and unsupervised learning on a csv file."
   ]
  },
  {
   "cell_type": "code",
   "execution_count": 1,
   "metadata": {},
   "outputs": [],
   "source": [
    "import fastText\n",
    "import pandas as pd\n",
    "from sklearn.model_selection import train_test_split\n",
    "import csv\n",
    "import re\n",
    "import numpy as np\n",
    "from sklearn.metrics import confusion_matrix\n",
    "import seaborn as sn\n",
    "import pandas as pd\n",
    "import matplotlib.pyplot as plt"
   ]
  },
  {
   "cell_type": "markdown",
   "metadata": {},
   "source": [
    "## Data preprocessing\n",
    "\n",
    "Make the transformations in the csv to make it fastText compatible.\n",
    "\n",
    "1. Label column should be first and all the needed text should be the second column\n",
    "1. The labels should be prefixed with '__label__'."
   ]
  },
  {
   "cell_type": "code",
   "execution_count": 2,
   "metadata": {},
   "outputs": [],
   "source": [
    "df = pd.read_csv('data/amazon_reviews.csv')\n",
    "df = df[['Score', 'Text']]\n",
    "df['Score'] = df['Score'].apply(lambda x: '__label__'+str(x))"
   ]
  },
  {
   "cell_type": "markdown",
   "metadata": {},
   "source": [
    "Some basic normalization"
   ]
  },
  {
   "cell_type": "code",
   "execution_count": 3,
   "metadata": {},
   "outputs": [],
   "source": [
    "# Convert all upper case to lower case and separate out the punctuations\n",
    "df['Text'] = df['Text'].apply(lambda x: re.sub(r\"([.\\\\!?,'/()])\", r\" \\1 \", x.lower()))"
   ]
  },
  {
   "cell_type": "markdown",
   "metadata": {},
   "source": [
    "Split the whole dataset into training and validation.\n",
    "Then you will need to save the file generated. fastText uses the c++ api of the internal so that it is fasttext and it is able to read from a file only. Hence you cannot pass pandas dataframe or other general objects into fastText directly. It needs to be saved in a text file format.  Acceptable separators: space '\\s' and tabs '\\t'"
   ]
  },
  {
   "cell_type": "code",
   "execution_count": 4,
   "metadata": {},
   "outputs": [],
   "source": [
    "train, test = train_test_split(df, test_size=0.2)\n",
    "train_file = 'data/ft_amazon_reviews_train.csv'\n",
    "test_file = 'data/ft_amazon_reviews_test.csv'\n",
    "train.to_csv(\"data/ft_amazon_reviews_train.csv\", sep=\"\\t\", quoting=csv.QUOTE_NONE, index=False, header=False)\n",
    "test.to_csv(\"data/ft_amazon_reviews_test.csv\", sep=\"\\t\", quoting=csv.QUOTE_NONE, index=False, header=False)"
   ]
  },
  {
   "cell_type": "markdown",
   "metadata": {},
   "source": [
    "## Model training"
   ]
  },
  {
   "cell_type": "code",
   "execution_count": 5,
   "metadata": {},
   "outputs": [],
   "source": [
    "su_model = fastText.train_supervised(input=train_file, epoch=25, lr=1.0, wordNgrams=2, verbose=2, minCount=1)"
   ]
  },
  {
   "cell_type": "markdown",
   "metadata": {},
   "source": [
    "## Prediction"
   ]
  },
  {
   "cell_type": "code",
   "execution_count": 12,
   "metadata": {},
   "outputs": [
    {
     "data": {
      "text/plain": [
       "array([ 0.9739366 , -0.10690681, -0.18442315, -0.32815075, -0.2629259 ,\n",
       "        0.08475307, -0.33683988,  0.1004678 ,  0.29507634,  0.3797914 ,\n",
       "       -0.0957877 ,  0.14488314,  0.5837851 ,  0.36708313,  0.49302685,\n",
       "        0.03698459, -0.31729332,  0.3390913 , -0.2398219 , -0.11810662,\n",
       "       -0.26123554, -0.04000393,  0.5133925 , -0.2993621 , -0.37497038,\n",
       "       -0.1480043 , -0.01575405, -0.18786587, -0.24299197,  0.10001197,\n",
       "        0.16200088,  0.3008852 , -0.08552407, -0.10462472,  0.10668681,\n",
       "       -0.3528411 ,  0.08479877, -0.28843695, -0.39323276,  0.44348982,\n",
       "        0.2134896 ,  0.43465677,  0.20963539,  0.7371119 ,  0.15791439,\n",
       "        0.2539009 ,  0.42569247,  0.20382771,  0.02301684,  0.39524236,\n",
       "       -0.14893648, -0.10559431, -0.09292013, -0.24161658, -0.0671635 ,\n",
       "        0.57647026,  0.26400712, -0.33100757,  0.18984947,  0.31646302,\n",
       "        0.18092002,  0.27457833,  0.40193152,  0.39701757,  0.49515894,\n",
       "        0.08713692,  0.6018543 ,  0.03951774,  0.28945717, -0.33304176,\n",
       "       -0.1607042 ,  0.6060081 ,  0.340039  , -0.0186264 , -0.15229072,\n",
       "        0.36870298,  0.778386  ,  0.2667693 ,  0.6441669 , -0.1182075 ,\n",
       "       -0.13238135,  0.438378  , -0.07265335,  0.0527539 ,  0.09832207,\n",
       "       -0.2708319 ,  0.06166079,  0.24113415,  0.08362336,  0.09727903,\n",
       "        0.48163944,  0.09329523,  0.300442  , -0.5090054 ,  0.17269851,\n",
       "       -0.15088975,  0.13018893, -0.04549711,  0.08365391, -0.17078586],\n",
       "      dtype=float32)"
      ]
     },
     "execution_count": 12,
     "metadata": {},
     "output_type": "execute_result"
    }
   ],
   "source": [
    "su_model.get_word_vector('restaurant')"
   ]
  },
  {
   "cell_type": "code",
   "execution_count": 13,
   "metadata": {},
   "outputs": [
    {
     "data": {
      "text/plain": [
       "array([ 0.31301185,  0.21263483, -0.01578098, -0.28770328,  0.22494566,\n",
       "        0.2638716 , -0.29960188, -0.17174089,  0.33033133,  0.43876603,\n",
       "       -0.19449215,  0.21721084,  0.1177489 ,  0.2557996 , -0.10775071,\n",
       "        0.16528422, -0.10744327,  0.09010191, -0.2106577 , -0.08195972,\n",
       "        0.08718861,  0.30067348,  0.2565589 , -0.2058702 , -0.1682414 ,\n",
       "       -0.17060483,  0.2581924 , -0.11858346, -0.20334442,  0.21017791,\n",
       "       -0.00201977,  0.03341334, -0.26670116, -0.23411241, -0.28563392,\n",
       "       -0.06115155,  0.02086251, -0.03978276, -0.13440888,  0.09591807,\n",
       "       -0.05076068,  0.46152285,  0.2037578 ,  0.3353867 ,  0.43921787,\n",
       "       -0.25145498,  0.35077307,  0.14018697, -0.07715078,  0.28427842,\n",
       "       -0.42151645,  0.25788745, -0.27668482,  0.2215935 , -0.26356637,\n",
       "       -0.04615937,  0.12560953, -0.03722109,  0.2431895 ,  0.24798478,\n",
       "       -0.15018463,  0.22169851,  0.5097058 ,  0.38027278,  0.12883115,\n",
       "        0.0212352 , -0.1982076 ,  0.03681635, -0.00940072,  0.12783119,\n",
       "       -0.33452877,  0.38973993,  0.0796643 , -0.0743257 , -0.2705189 ,\n",
       "        0.19137266,  0.4514034 ,  0.15104283,  0.1692871 , -0.22645359,\n",
       "        0.06477357,  0.14428526,  0.23018499, -0.02777017,  0.10763184,\n",
       "       -0.17861792,  0.10808642,  0.23500086, -0.22926953, -0.06856295,\n",
       "        0.35553065, -0.0390158 ,  0.4572796 , -0.3681204 , -0.00617741,\n",
       "       -0.35810095, -0.22153269,  0.07694888,  0.0196718 , -0.21543942],\n",
       "      dtype=float32)"
      ]
     },
     "execution_count": 13,
     "metadata": {},
     "output_type": "execute_result"
    }
   ],
   "source": [
    "su_model.get_sentence_vector('I love this restaurant')"
   ]
  },
  {
   "cell_type": "code",
   "execution_count": 14,
   "metadata": {},
   "outputs": [
    {
     "data": {
      "text/plain": [
       "(('__label__5',), array([1.00001001]))"
      ]
     },
     "execution_count": 14,
     "metadata": {},
     "output_type": "execute_result"
    }
   ],
   "source": [
    "su_model.predict('I love this restaurant')"
   ]
  },
  {
   "cell_type": "markdown",
   "metadata": {},
   "source": [
    "## Model Performance\n",
    "\n",
    "#### Pricision and recall for single label"
   ]
  },
  {
   "cell_type": "code",
   "execution_count": 6,
   "metadata": {},
   "outputs": [],
   "source": [
    "def print_results(N, p, r):\n",
    "    print(\"N\\t\" + str(N))\n",
    "    print(\"P@{}\\t{:.3f}\".format(1, p))\n",
    "    print(\"R@{}\\t{:.3f}\".format(1, r))"
   ]
  },
  {
   "cell_type": "code",
   "execution_count": 7,
   "metadata": {},
   "outputs": [
    {
     "name": "stdout",
     "output_type": "stream",
     "text": [
      "N\t113691\n",
      "P@1\t0.823\n",
      "R@1\t0.823\n"
     ]
    }
   ],
   "source": [
    "print_results(*su_model.test(test_file))"
   ]
  },
  {
   "cell_type": "code",
   "execution_count": 8,
   "metadata": {},
   "outputs": [
    {
     "name": "stdout",
     "output_type": "stream",
     "text": [
      "N\t113691\n",
      "P@1\t0.823\n",
      "R@1\t0.823\n"
     ]
    }
   ],
   "source": [
    "print_results(*su_model.test(test_file))"
   ]
  },
  {
   "cell_type": "markdown",
   "metadata": {},
   "source": [
    "#### Precision and recall for multiple labels"
   ]
  },
  {
   "cell_type": "code",
   "execution_count": 9,
   "metadata": {},
   "outputs": [
    {
     "name": "stdout",
     "output_type": "stream",
     "text": [
      "N\t113691\n",
      "P@5\t0.200\n",
      "R@5\t1.000\n"
     ]
    }
   ],
   "source": [
    "n, p, r = su_model.test(test_file, 5)\n",
    "print(\"N\\t\" + str(n))\n",
    "print(\"P@{}\\t{:.3f}\".format(5, p))\n",
    "print(\"R@{}\\t{:.3f}\".format(5, r))"
   ]
  },
  {
   "cell_type": "markdown",
   "metadata": {},
   "source": [
    "#### Confusion matrix"
   ]
  },
  {
   "cell_type": "code",
   "execution_count": 10,
   "metadata": {},
   "outputs": [],
   "source": [
    "def get_true_postive_count(cm, model, df, label_column_name, text_column_name, target_class):\n",
    "    predictions = [model.predict(x)[0][0] for x in df[df[label_column_name] == target_class][text_column_name]]\n",
    "    tp_count = len(list(filter(lambda x: x==target_class, predictions)))\n",
    "    index = np.where(cm==tp_count)\n",
    "    if index[0][0] == index[1][0]:\n",
    "        return index[0][0]\n",
    "    else:\n",
    "        raise ValueError('COuld not find the index ' + index)\n",
    "        \n",
    "        \n",
    "def resolve_labels_sequence(classes, cm, model, df, label_column_name, text_column_name):\n",
    "    target_seq = [0] * len(classes)\n",
    "    for label in classes:\n",
    "        index = get_true_postive_count(cm, model, df, label_column_name, text_column_name, label)\n",
    "        target_seq[index] = label\n",
    "    return target_seq\n",
    "\n",
    "\n",
    "def fasttext_confusion_matrix(model, pd_test_data, label_column_name, text_column_name):\n",
    "    test_labels = pd_test_data[label_column_name]\n",
    "    test_labels = np.array(test_labels)\n",
    "    _classes = list(set(test_labels))\n",
    "    pred_labels = [model.predict(x)[0][0] for x in pd_test_data[text_column_name]]\n",
    "    pred_labels = np.array(pred_labels)\n",
    "    eq = test_labels == pred_labels\n",
    "    print(\"Accuracy: \" + str(eq.sum() / len(test_labels)))\n",
    "    cm = confusion_matrix(test_labels, pred_labels)\n",
    "    labels = resolve_labels_sequence(_classes, cm, model, pd_test_data, label_column_name, text_column_name)\n",
    "    print(labels)\n",
    "    print(confusion_matrix(test_labels, pred_labels, labels=labels))\n",
    "    df_cm = pd.DataFrame(cm, index = labels, columns = labels)\n",
    "    plt.figure(figsize = (10,7))\n",
    "    sn.heatmap(df_cm, annot=True)"
   ]
  },
  {
   "cell_type": "code",
   "execution_count": 11,
   "metadata": {},
   "outputs": [
    {
     "name": "stdout",
     "output_type": "stream",
     "text": [
      "Accuracy: 0.823433693080367\n",
      "['__label__1', '__label__2', '__label__3', '__label__4', '__label__5']\n",
      "[[ 8198   847   489   178   637]\n",
      " [ 1123  3332   838   284   468]\n",
      " [  499   667  5222  1037  1021]\n",
      " [  220   231   996  9656  5065]\n",
      " [  460   266   686  4062 67209]]\n"
     ]
    },
    {
     "data": {
      "image/png": "[encoded data removed]",
      "text/plain": [
       "<Figure size 720x504 with 2 Axes>"
      ]
     },
     "metadata": {},
     "output_type": "display_data"
    }
   ],
   "source": [
    "fasttext_confusion_matrix(su_model, test, 'Score', 'Text')"
   ]
  }
 ],
 "metadata": {
  "kernelspec": {
   "display_name": "Python 3",
   "language": "python",
   "name": "python3"
  },
  "language_info": {
   "codemirror_mode": {
    "name": "ipython",
    "version": 3
   },
   "file_extension": ".py",
   "mimetype": "text/x-python",
   "name": "python",
   "nbconvert_exporter": "python",
   "pygments_lexer": "ipython3",
   "version": "3.5.2"
  }
 },
 "nbformat": 4,
 "nbformat_minor": 2
}
