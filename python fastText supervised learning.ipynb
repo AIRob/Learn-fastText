{
 "cells": [
  {
   "cell_type": "markdown",
   "metadata": {},
   "source": [
    "This dataset consists of reviews of fine foods from amazon. The data span a period of more than 10 years, including all ~500,000 reviews up to October 2012. Reviews include product and user information, ratings, and a plain text review. It also includes reviews from all other Amazon categories.\n",
    "\n",
    "You can download the dataset from kaggle\n",
    "\n",
    "https://www.kaggle.com/snap/amazon-fine-food-reviews\n"
   ]
  },
  {
   "cell_type": "markdown",
   "metadata": {},
   "source": [
    "The purpose of this model is to show an example of using fastText model for some supervised and unsupervised learning on a csv file."
   ]
  },
  {
   "cell_type": "code",
   "execution_count": 1,
   "metadata": {},
   "outputs": [],
   "source": [
    "import fastText\n",
    "import pandas as pd\n",
    "from sklearn.model_selection import train_test_split\n",
    "import csv\n",
    "import re\n",
    "import numpy as np\n",
    "from sklearn.metrics import confusion_matrix\n",
    "import seaborn as sn\n",
    "import pandas as pd\n",
    "import matplotlib.pyplot as plt"
   ]
  },
  {
   "cell_type": "markdown",
   "metadata": {},
   "source": [
    "## Data preprocessing\n",
    "\n",
    "Make the transformations in the csv to make it fastText compatible.\n",
    "\n",
    "1. Label column should be first and all the needed text should be the second column\n",
    "1. The labels should be prefixed with '__label__'."
   ]
  },
  {
   "cell_type": "code",
   "execution_count": 2,
   "metadata": {},
   "outputs": [],
   "source": [
    "df = pd.read_csv('data/amazon_reviews.csv')\n",
    "df = df[['Score', 'Text']]\n",
    "df['Score'] = df['Score'].apply(lambda x: '__label__'+str(x))"
   ]
  },
  {
   "cell_type": "markdown",
   "metadata": {},
   "source": [
    "Some basic normalization"
   ]
  },
  {
   "cell_type": "code",
   "execution_count": 3,
   "metadata": {},
   "outputs": [],
   "source": [
    "def normalize(s):\n",
    "    \"\"\"\n",
    "    Given a text, cleans and normalizes it. Feel free to add your own stuff.\n",
    "    \"\"\"\n",
    "    s = s.lower()\n",
    "    # Replace ips\n",
    "    s = re.sub(r'\\d{1,3}\\.\\d{1,3}\\.\\d{1,3}\\.\\d{1,3}', ' _ip_ ', s)\n",
    "    # Isolate punctuation\n",
    "    s = re.sub(r'([.\\(\\)\\!\\?\\-\\\\\\/\\,])', r' \\1 ', s)\n",
    "    # Remove some special characters\n",
    "    s = re.sub(r'([\\;\\:\\|•«\\n])', ' ', s)\n",
    "    # Replace numbers and symbols with language\n",
    "    s = s.replace('&', ' and ')\n",
    "    s = s.replace('@', ' at ')\n",
    "    s = s.replace('0', ' zero ')\n",
    "    s = s.replace('1', ' one ')\n",
    "    s = s.replace('2', ' two ')\n",
    "    s = s.replace('3', ' three ')\n",
    "    s = s.replace('4', ' four ')\n",
    "    s = s.replace('5', ' five ')\n",
    "    s = s.replace('6', ' six ')\n",
    "    s = s.replace('7', ' seven ')\n",
    "    s = s.replace('8', ' eight ')\n",
    "    s = s.replace('9', ' nine ')\n",
    "    return s"
   ]
  },
  {
   "cell_type": "code",
   "execution_count": 4,
   "metadata": {},
   "outputs": [],
   "source": [
    "# Convert all upper case to lower case and separate out the punctuations\n",
    "df['Text'] = df['Text'].apply(normalize)"
   ]
  },
  {
   "cell_type": "markdown",
   "metadata": {},
   "source": [
    "Split the whole dataset into training and validation.\n",
    "Then you will need to save the file generated. fastText uses the c++ api of the internal so that it is fasttext and it is able to read from a file only. Hence you cannot pass pandas dataframe or other general objects into fastText directly. It needs to be saved in a text file format.  Acceptable separators: space '\\s' and tabs '\\t'"
   ]
  },
  {
   "cell_type": "code",
   "execution_count": 5,
   "metadata": {},
   "outputs": [],
   "source": [
    "train, test = train_test_split(df, test_size=0.2)\n",
    "train_file = 'data/ft_amazon_reviews_train.csv'\n",
    "test_file = 'data/ft_amazon_reviews_test.csv'\n",
    "train.to_csv(\"data/ft_amazon_reviews_train.csv\", sep=\"\\t\", quoting=csv.QUOTE_NONE, index=False, header=False)\n",
    "test.to_csv(\"data/ft_amazon_reviews_test.csv\", sep=\"\\t\", quoting=csv.QUOTE_NONE, index=False, header=False)"
   ]
  },
  {
   "cell_type": "markdown",
   "metadata": {},
   "source": [
    "## Model training"
   ]
  },
  {
   "cell_type": "code",
   "execution_count": 6,
   "metadata": {},
   "outputs": [],
   "source": [
    "su_model = fastText.train_supervised(input=train_file, epoch=25, lr=1.0, wordNgrams=2, verbose=2, minCount=1)"
   ]
  },
  {
   "cell_type": "code",
   "execution_count": 7,
   "metadata": {},
   "outputs": [
    {
     "data": {
      "text/plain": [
       "<fastText.FastText._FastText at 0x7f1e373e0ac8>"
      ]
     },
     "execution_count": 7,
     "metadata": {},
     "output_type": "execute_result"
    }
   ],
   "source": [
    "su_model"
   ]
  },
  {
   "cell_type": "markdown",
   "metadata": {},
   "source": [
    "save the model to a file"
   ]
  },
  {
   "cell_type": "code",
   "execution_count": 8,
   "metadata": {},
   "outputs": [],
   "source": [
    "su_model.save_model('su_model.bin')"
   ]
  },
  {
   "cell_type": "markdown",
   "metadata": {},
   "source": [
    "## Prediction"
   ]
  },
  {
   "cell_type": "code",
   "execution_count": 9,
   "metadata": {},
   "outputs": [
    {
     "data": {
      "text/plain": [
       "array([ 0.22435586,  0.95527536, -0.44455796, -0.03951411, -0.01095253,\n",
       "        0.6159792 ,  0.5153629 , -0.21586855, -0.27574384, -0.3276731 ,\n",
       "       -0.22132482, -0.58282095,  0.2036461 ,  0.09942202,  0.04707805,\n",
       "       -0.08876295,  0.08870561,  0.05554101,  0.10984168, -0.18077362,\n",
       "        0.04535109,  0.42684075, -0.35661155,  0.00581164, -0.05114033,\n",
       "        0.37843418, -0.2590034 ,  0.10909657,  0.21210743, -0.15437399,\n",
       "       -0.06822666, -0.3608412 , -0.6663131 , -0.23312452, -0.2201562 ,\n",
       "       -0.16252425, -0.00828634,  0.15795305, -0.3200012 , -0.13571495,\n",
       "        0.3176872 , -0.06170471,  0.5234293 ,  0.42308843, -0.2997579 ,\n",
       "       -0.3275955 , -0.29005194,  0.29714245, -0.07236667, -0.0490873 ,\n",
       "       -0.00259931,  0.07159577, -0.14207417,  0.29956803,  0.37480626,\n",
       "       -0.37832087, -0.36457762,  0.8110961 ,  0.3556552 ,  0.18856733,\n",
       "        0.24436091,  0.08270382,  0.2554578 , -0.3571458 , -0.20491928,\n",
       "        0.48312145,  0.2134933 ,  0.10248006, -0.40751502,  0.00244153,\n",
       "        0.18444408, -0.05723577,  0.05931116,  0.31144136, -0.17051002,\n",
       "        0.07976095, -0.2488463 ,  0.13044441, -0.17945959,  0.01016512,\n",
       "       -0.32322314, -0.5218829 ,  0.37939256,  0.18228906, -0.44762415,\n",
       "        0.49831176,  0.30385453, -0.0731382 ,  0.33588442, -0.01688915,\n",
       "        0.11874975,  0.34645748,  0.26980966, -0.5448972 , -0.1756585 ,\n",
       "        0.00375546,  0.22424346,  0.1268237 , -0.23352338, -0.28962064],\n",
       "      dtype=float32)"
      ]
     },
     "execution_count": 9,
     "metadata": {},
     "output_type": "execute_result"
    }
   ],
   "source": [
    "su_model.get_word_vector('restaurant')"
   ]
  },
  {
   "cell_type": "code",
   "execution_count": 10,
   "metadata": {},
   "outputs": [
    {
     "data": {
      "text/plain": [
       "array([ 1.54103324e-01,  5.47133625e-01, -9.84371379e-02, -2.28309453e-01,\n",
       "        4.92512226e-01,  4.54757243e-01, -1.92710295e-01, -1.99336186e-01,\n",
       "        1.84675336e-01,  2.54244238e-01, -1.37906477e-01, -2.22580973e-03,\n",
       "       -7.49833286e-02,  2.99171209e-01, -1.93358108e-01, -2.73760296e-02,\n",
       "       -9.45006609e-02, -4.19891402e-02, -4.88251932e-02, -9.12335366e-02,\n",
       "        1.24997519e-01,  2.20850497e-01,  2.94067830e-01, -1.16107658e-01,\n",
       "       -1.62551582e-01, -9.43272114e-02,  2.36129344e-01, -4.83906381e-02,\n",
       "       -3.50350678e-01,  1.99104518e-01,  1.73049979e-04, -1.78077504e-01,\n",
       "       -9.40746590e-02, -2.27473795e-01, -4.10165817e-01,  1.09069034e-01,\n",
       "        1.04938090e-01, -1.51514560e-01, -2.10111305e-01, -2.60049105e-02,\n",
       "        2.01271940e-03,  3.02805990e-01,  1.91670917e-02,  3.23320806e-01,\n",
       "        4.50405121e-01, -2.74187267e-01,  2.03039899e-01,  7.43407831e-02,\n",
       "       -3.19145977e-01,  1.04817979e-01, -4.86542135e-01,  9.46902856e-02,\n",
       "       -2.67558217e-01,  1.97312474e-01, -1.58764705e-01, -1.22514285e-01,\n",
       "       -8.26012120e-02,  1.83337897e-01,  2.39446878e-01, -1.02970507e-02,\n",
       "       -6.19154908e-02,  1.30516067e-01,  4.58721757e-01,  2.25660518e-01,\n",
       "       -1.25431061e-01,  1.53476804e-01, -3.52427870e-01,  1.99678123e-01,\n",
       "       -5.52567355e-02,  1.03572167e-01, -2.11535513e-01,  2.47291982e-01,\n",
       "       -1.23506663e-02, -1.36828125e-01, -2.31873468e-01, -4.78097908e-02,\n",
       "        2.03904405e-01,  7.92129561e-02,  1.27934605e-01, -1.59869075e-01,\n",
       "       -7.20386673e-03,  2.17253461e-01,  2.94195771e-01, -5.30619323e-02,\n",
       "        2.89668083e-01, -2.66972817e-02,  8.05383623e-02,  1.20586321e-01,\n",
       "       -2.58274138e-01, -2.33034700e-01,  1.87903270e-01,  9.45825204e-02,\n",
       "        4.63290453e-01, -3.05218011e-01, -1.53927431e-01, -4.02709246e-01,\n",
       "       -4.64713126e-02,  2.67712027e-02, -2.44494110e-01, -2.91444153e-01],\n",
       "      dtype=float32)"
      ]
     },
     "execution_count": 10,
     "metadata": {},
     "output_type": "execute_result"
    }
   ],
   "source": [
    "su_model.get_sentence_vector('I love this restaurant')"
   ]
  },
  {
   "cell_type": "code",
   "execution_count": 11,
   "metadata": {},
   "outputs": [
    {
     "data": {
      "text/plain": [
       "(('__label__5',), array([1.00001001]))"
      ]
     },
     "execution_count": 11,
     "metadata": {},
     "output_type": "execute_result"
    }
   ],
   "source": [
    "su_model.predict('I love this restaurant')"
   ]
  },
  {
   "cell_type": "markdown",
   "metadata": {},
   "source": [
    "Find the first 3 labels as per probabilities."
   ]
  },
  {
   "cell_type": "code",
   "execution_count": 12,
   "metadata": {},
   "outputs": [
    {
     "data": {
      "text/plain": [
       "(('__label__5', '__label__2', '__label__3'),\n",
       " array([1.00001001e+00, 1.00000034e-05, 1.00000034e-05]))"
      ]
     },
     "execution_count": 12,
     "metadata": {},
     "output_type": "execute_result"
    }
   ],
   "source": [
    "su_model.predict('I love this restaurant', k=3)"
   ]
  },
  {
   "cell_type": "markdown",
   "metadata": {},
   "source": [
    "## Model Performance\n",
    "\n",
    "#### Pricision and recall for single label"
   ]
  },
  {
   "cell_type": "code",
   "execution_count": 13,
   "metadata": {},
   "outputs": [],
   "source": [
    "def print_results(N, p, r):\n",
    "    print(\"N\\t\" + str(N))\n",
    "    print(\"P@{}\\t{:.3f}\".format(1, p))\n",
    "    print(\"R@{}\\t{:.3f}\".format(1, r))"
   ]
  },
  {
   "cell_type": "code",
   "execution_count": 14,
   "metadata": {},
   "outputs": [
    {
     "name": "stdout",
     "output_type": "stream",
     "text": [
      "N\t113691\n",
      "P@1\t0.825\n",
      "R@1\t0.825\n"
     ]
    }
   ],
   "source": [
    "print_results(*su_model.test(test_file))"
   ]
  },
  {
   "cell_type": "markdown",
   "metadata": {},
   "source": [
    "#### Precision and recall for multiple labels"
   ]
  },
  {
   "cell_type": "code",
   "execution_count": 15,
   "metadata": {},
   "outputs": [
    {
     "name": "stdout",
     "output_type": "stream",
     "text": [
      "N\t113691\n",
      "P@5\t0.200\n",
      "R@5\t1.000\n"
     ]
    }
   ],
   "source": [
    "n, p, r = su_model.test(test_file, 5)\n",
    "print(\"N\\t\" + str(n))\n",
    "print(\"P@{}\\t{:.3f}\".format(5, p))\n",
    "print(\"R@{}\\t{:.3f}\".format(5, r))"
   ]
  },
  {
   "cell_type": "markdown",
   "metadata": {},
   "source": [
    "#### Confusion matrix"
   ]
  },
  {
   "cell_type": "code",
   "execution_count": 16,
   "metadata": {},
   "outputs": [],
   "source": [
    "def get_true_postive_count(cm, model, df, label_column_name, text_column_name, target_class):\n",
    "    predictions = [model.predict(x)[0][0] for x in df[df[label_column_name] == target_class][text_column_name]]\n",
    "    tp_count = len(list(filter(lambda x: x==target_class, predictions)))\n",
    "    index = np.where(cm==tp_count)\n",
    "    if index[0][0] == index[1][0]:\n",
    "        return index[0][0]\n",
    "    else:\n",
    "        raise ValueError('COuld not find the index ' + index)\n",
    "        \n",
    "        \n",
    "def resolve_labels_sequence(classes, cm, model, df, label_column_name, text_column_name):\n",
    "    target_seq = [0] * len(classes)\n",
    "    for label in classes:\n",
    "        index = get_true_postive_count(cm, model, df, label_column_name, text_column_name, label)\n",
    "        target_seq[index] = label\n",
    "    return target_seq\n",
    "\n",
    "\n",
    "def fasttext_confusion_matrix(model, pd_test_data, label_column_name, text_column_name):\n",
    "    test_labels = pd_test_data[label_column_name]\n",
    "    test_labels = np.array(test_labels)\n",
    "    _classes = list(set(test_labels))\n",
    "    pred_labels = [model.predict(x)[0][0] for x in pd_test_data[text_column_name]]\n",
    "    pred_labels = np.array(pred_labels)\n",
    "    eq = test_labels == pred_labels\n",
    "    print(\"Accuracy: \" + str(eq.sum() / len(test_labels)))\n",
    "    cm = confusion_matrix(test_labels, pred_labels)\n",
    "    labels = resolve_labels_sequence(_classes, cm, model, pd_test_data, label_column_name, text_column_name)\n",
    "    print(labels)\n",
    "    print(confusion_matrix(test_labels, pred_labels, labels=labels))\n",
    "    df_cm = pd.DataFrame(cm, index = labels, columns = labels)\n",
    "    plt.figure(figsize = (10,7))\n",
    "    sn.heatmap(df_cm, annot=True)"
   ]
  },
  {
   "cell_type": "code",
   "execution_count": 17,
   "metadata": {},
   "outputs": [
    {
     "name": "stdout",
     "output_type": "stream",
     "text": [
      "Accuracy: 0.8245155729125436\n",
      "['__label__1', '__label__2', '__label__3', '__label__4', '__label__5']\n",
      "[[ 8266   890   484   206   638]\n",
      " [ 1070  3388   777   291   497]\n",
      " [  552   704  5061  1064  1028]\n",
      " [  192   199   912  9669  5150]\n",
      " [  452   209   620  4016 67356]]\n"
     ]
    },
    {
     "data": {
      "image/png": "[encoded data removed]",
      "text/plain": [
       "<Figure size 720x504 with 2 Axes>"
      ]
     },
     "metadata": {},
     "output_type": "display_data"
    }
   ],
   "source": [
    "fasttext_confusion_matrix(su_model, test, 'Score', 'Text')"
   ]
  }
 ],
 "metadata": {
  "kernelspec": {
   "display_name": "Python 3",
   "language": "python",
   "name": "python3"
  },
  "language_info": {
   "codemirror_mode": {
    "name": "ipython",
    "version": 3
   },
   "file_extension": ".py",
   "mimetype": "text/x-python",
   "name": "python",
   "nbconvert_exporter": "python",
   "pygments_lexer": "ipython3",
   "version": "3.5.2"
  }
 },
 "nbformat": 4,
 "nbformat_minor": 2
}
