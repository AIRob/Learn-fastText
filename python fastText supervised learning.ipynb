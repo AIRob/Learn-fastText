{
 "cells": [
  {
   "cell_type": "markdown",
   "metadata": {},
   "source": [
    "This dataset consists of reviews of fine foods from amazon. The data span a period of more than 10 years, including all ~500,000 reviews up to October 2012. Reviews include product and user information, ratings, and a plain text review. It also includes reviews from all other Amazon categories.\n",
    "\n",
    "You can download the dataset from kaggle\n",
    "\n",
    "https://www.kaggle.com/snap/amazon-fine-food-reviews\n"
   ]
  },
  {
   "cell_type": "markdown",
   "metadata": {},
   "source": [
    "The purpose of this model is to show an example of using fastText model for some supervised and unsupervised learning on a csv file."
   ]
  },
  {
   "cell_type": "code",
   "execution_count": 1,
   "metadata": {},
   "outputs": [],
   "source": [
    "import fastText\n",
    "import pandas as pd\n",
    "from sklearn.model_selection import train_test_split\n",
    "import csv\n",
    "import re\n",
    "import numpy as np\n",
    "from sklearn.metrics import confusion_matrix\n",
    "import seaborn as sn\n",
    "import pandas as pd\n",
    "import matplotlib.pyplot as plt"
   ]
  },
  {
   "cell_type": "markdown",
   "metadata": {},
   "source": [
    "## Data preprocessing\n",
    "\n",
    "Make the transformations in the csv to make it fastText compatible.\n",
    "\n",
    "1. Label column should be first and all the needed text should be the second column\n",
    "1. The labels should be prefixed with '__label__'."
   ]
  },
  {
   "cell_type": "code",
   "execution_count": 2,
   "metadata": {},
   "outputs": [],
   "source": [
    "df = pd.read_csv('data/amazon_reviews.csv')\n",
    "df = df[['Score', 'Text']]\n",
    "df['Score'] = df['Score'].apply(lambda x: '__label__'+str(x))"
   ]
  },
  {
   "cell_type": "markdown",
   "metadata": {},
   "source": [
    "Some basic normalization"
   ]
  },
  {
   "cell_type": "code",
   "execution_count": 3,
   "metadata": {},
   "outputs": [],
   "source": [
    "def normalize(s):\n",
    "    \"\"\"\n",
    "    Given a text, cleans and normalizes it. Feel free to add your own stuff.\n",
    "    \"\"\"\n",
    "    s = s.lower()\n",
    "    # Replace ips\n",
    "    s = re.sub(r'\\d{1,3}\\.\\d{1,3}\\.\\d{1,3}\\.\\d{1,3}', ' _ip_ ', s)\n",
    "    # Isolate punctuation\n",
    "    s = re.sub(r'([.\\(\\)\\!\\?\\-\\\\\\/\\,])', r' \\1 ', s)\n",
    "    # Remove some special characters\n",
    "    s = re.sub(r'([\\;\\:\\|•«\\n])', ' ', s)\n",
    "    # Replace numbers and symbols with language\n",
    "    s = s.replace('&', ' and ')\n",
    "    s = s.replace('@', ' at ')\n",
    "    s = s.replace('0', ' zero ')\n",
    "    s = s.replace('1', ' one ')\n",
    "    s = s.replace('2', ' two ')\n",
    "    s = s.replace('3', ' three ')\n",
    "    s = s.replace('4', ' four ')\n",
    "    s = s.replace('5', ' five ')\n",
    "    s = s.replace('6', ' six ')\n",
    "    s = s.replace('7', ' seven ')\n",
    "    s = s.replace('8', ' eight ')\n",
    "    s = s.replace('9', ' nine ')\n",
    "    return s"
   ]
  },
  {
   "cell_type": "code",
   "execution_count": 4,
   "metadata": {},
   "outputs": [],
   "source": [
    "# Convert all upper case to lower case and separate out the punctuations\n",
    "df['Text'] = df['Text'].apply(normalize)"
   ]
  },
  {
   "cell_type": "markdown",
   "metadata": {},
   "source": [
    "Split the whole dataset into training and validation.\n",
    "Then you will need to save the file generated. fastText uses the c++ api of the internal so that it is fasttext and it is able to read from a file only. Hence you cannot pass pandas dataframe or other general objects into fastText directly. It needs to be saved in a text file format.  Acceptable separators: space '\\s' and tabs '\\t'"
   ]
  },
  {
   "cell_type": "code",
   "execution_count": 5,
   "metadata": {},
   "outputs": [],
   "source": [
    "train, test = train_test_split(df, test_size=0.2)\n",
    "train_file = 'data/ft_amazon_reviews_train.csv'\n",
    "test_file = 'data/ft_amazon_reviews_test.csv'\n",
    "train.to_csv(\"data/ft_amazon_reviews_train.csv\", sep=\"\\t\", quoting=csv.QUOTE_NONE, index=False, header=False)\n",
    "test.to_csv(\"data/ft_amazon_reviews_test.csv\", sep=\"\\t\", quoting=csv.QUOTE_NONE, index=False, header=False)"
   ]
  },
  {
   "cell_type": "markdown",
   "metadata": {},
   "source": [
    "## Model training"
   ]
  },
  {
   "cell_type": "code",
   "execution_count": 6,
   "metadata": {},
   "outputs": [],
   "source": [
    "su_model = fastText.train_supervised(input=train_file, epoch=25, lr=1.0, wordNgrams=2, verbose=2, minCount=1)"
   ]
  },
  {
   "cell_type": "code",
   "execution_count": 7,
   "metadata": {},
   "outputs": [
    {
     "data": {
      "text/plain": [
       "<fastText.FastText._FastText at 0x7f281b5a18d0>"
      ]
     },
     "execution_count": 7,
     "metadata": {},
     "output_type": "execute_result"
    }
   ],
   "source": [
    "su_model"
   ]
  },
  {
   "cell_type": "markdown",
   "metadata": {},
   "source": [
    "save the model to a file"
   ]
  },
  {
   "cell_type": "code",
   "execution_count": 8,
   "metadata": {},
   "outputs": [],
   "source": [
    "su_model.save_model('su_model.bin')"
   ]
  },
  {
   "cell_type": "markdown",
   "metadata": {},
   "source": [
    "## Prediction"
   ]
  },
  {
   "cell_type": "code",
   "execution_count": 9,
   "metadata": {},
   "outputs": [
    {
     "data": {
      "text/plain": [
       "array([ 0.00083327,  0.33349532, -0.17080632, -0.13563706,  0.16564773,\n",
       "       -0.05564863,  0.10083006,  0.12719898,  0.04690731,  0.06271145,\n",
       "       -0.10478041,  0.14533304,  0.08965513,  0.53627163, -0.12770079,\n",
       "       -0.0924221 , -0.32358742, -0.1723045 , -0.0478346 , -0.02438449,\n",
       "        0.24593268,  0.29471803,  0.04270129,  0.02437886, -0.03422938,\n",
       "        0.09450538,  0.12559356, -0.3115734 , -0.06408767,  0.26481986,\n",
       "       -0.2422609 , -0.04931028, -0.15574574, -0.36733857, -0.39339083,\n",
       "       -0.13526309,  0.01759973, -0.38120747, -0.07579359,  0.10068691,\n",
       "        0.21289428, -0.02731302,  0.22816448,  0.18242174,  0.12146816,\n",
       "       -0.2638189 ,  0.09631416,  0.11443231,  0.05330153,  0.17794749,\n",
       "       -0.09281583,  0.19219683, -0.33256307, -0.10735238, -0.22537495,\n",
       "       -0.12376074, -0.26184303,  0.3334791 ,  0.19144721,  0.24897899,\n",
       "        0.32944158,  0.07372653,  0.07574748,  0.02282767, -0.11994965,\n",
       "        0.11664408, -0.35510907,  0.18013445, -0.14676446,  0.14380045,\n",
       "       -0.24015856,  0.11753386, -0.0755077 ,  0.0632627 ,  0.1286758 ,\n",
       "       -0.02340935, -0.0941874 ,  0.38290823,  0.05889962, -0.0892364 ,\n",
       "        0.00784938, -0.01336196,  0.2057029 , -0.08927453,  0.00564589,\n",
       "       -0.1126105 ,  0.15157288,  0.1561119 ,  0.11132723, -0.02236774,\n",
       "        0.26804337,  0.06384581,  0.23659404, -0.10093081, -0.2256758 ,\n",
       "       -0.21193397, -0.07587213, -0.03746711, -0.37899166, -0.01977419],\n",
       "      dtype=float32)"
      ]
     },
     "execution_count": 9,
     "metadata": {},
     "output_type": "execute_result"
    }
   ],
   "source": [
    "su_model.get_word_vector('restaurant')"
   ]
  },
  {
   "cell_type": "code",
   "execution_count": 10,
   "metadata": {},
   "outputs": [
    {
     "data": {
      "text/plain": [
       "array([ 0.1959058 ,  0.33284864, -0.05481601, -0.17553474,  0.29514426,\n",
       "        0.37748432, -0.30447987,  0.02284841,  0.4422323 ,  0.49765396,\n",
       "       -0.27068222,  0.3055198 , -0.13887453,  0.36812446, -0.25783136,\n",
       "        0.02667091, -0.25023   , -0.14383125, -0.07148634, -0.19561224,\n",
       "        0.15168324,  0.29395336,  0.26547182, -0.20228761, -0.25973195,\n",
       "       -0.0337605 ,  0.38313866, -0.20100753, -0.22606108,  0.23325661,\n",
       "       -0.00911768, -0.02071113, -0.10140435, -0.23023805, -0.34805873,\n",
       "        0.08158761, -0.08889539, -0.21526797, -0.16673522,  0.09192036,\n",
       "        0.00880553,  0.4154806 ,  0.024555  ,  0.22246751,  0.5168651 ,\n",
       "       -0.17069253,  0.22381085, -0.00951583, -0.05941672,  0.26003662,\n",
       "       -0.3681685 ,  0.17548743, -0.2752566 ,  0.22430298, -0.17601642,\n",
       "       -0.0913732 , -0.12956914,  0.06930745,  0.33021644, -0.01343593,\n",
       "        0.14380214,  0.26463678,  0.30739215,  0.16254355, -0.00705999,\n",
       "        0.10420053, -0.5196031 ,  0.13559727, -0.15530816,  0.14253321,\n",
       "       -0.3188237 ,  0.18636143,  0.01226858, -0.26510644, -0.29152766,\n",
       "       -0.04650797,  0.41192818,  0.14694938,  0.33859658, -0.073176  ,\n",
       "        0.12011392,  0.17224485,  0.283646  ,  0.0889957 ,  0.15285121,\n",
       "       -0.23383346,  0.05719509,  0.26975003, -0.23379089, -0.08753359,\n",
       "        0.25363624,  0.02257705,  0.49094665, -0.2029093 , -0.1867804 ,\n",
       "       -0.36935383, -0.12729928,  0.14302012, -0.11470759, -0.09437129],\n",
       "      dtype=float32)"
      ]
     },
     "execution_count": 10,
     "metadata": {},
     "output_type": "execute_result"
    }
   ],
   "source": [
    "su_model.get_sentence_vector('I love this restaurant')"
   ]
  },
  {
   "cell_type": "code",
   "execution_count": 11,
   "metadata": {},
   "outputs": [
    {
     "data": {
      "text/plain": [
       "(('__label__5',), array([1.00001001]))"
      ]
     },
     "execution_count": 11,
     "metadata": {},
     "output_type": "execute_result"
    }
   ],
   "source": [
    "su_model.predict('I love this restaurant')"
   ]
  },
  {
   "cell_type": "markdown",
   "metadata": {},
   "source": [
    "Find the first 3 labels as per probabilities."
   ]
  },
  {
   "cell_type": "code",
   "execution_count": 18,
   "metadata": {},
   "outputs": [
    {
     "data": {
      "text/plain": [
       "(('__label__5', '__label__2', '__label__3'),\n",
       " array([1.00001001e+00, 1.00000034e-05, 1.00000034e-05]))"
      ]
     },
     "execution_count": 18,
     "metadata": {},
     "output_type": "execute_result"
    }
   ],
   "source": [
    "su_model.predict('I love this restaurant', k=3)"
   ]
  },
  {
   "cell_type": "markdown",
   "metadata": {},
   "source": [
    "## Model Performance\n",
    "\n",
    "#### Pricision and recall for single label"
   ]
  },
  {
   "cell_type": "code",
   "execution_count": 12,
   "metadata": {},
   "outputs": [],
   "source": [
    "def print_results(N, p, r):\n",
    "    print(\"N\\t\" + str(N))\n",
    "    print(\"P@{}\\t{:.3f}\".format(1, p))\n",
    "    print(\"R@{}\\t{:.3f}\".format(1, r))"
   ]
  },
  {
   "cell_type": "code",
   "execution_count": 13,
   "metadata": {},
   "outputs": [
    {
     "name": "stdout",
     "output_type": "stream",
     "text": [
      "N\t113691\n",
      "P@1\t0.823\n",
      "R@1\t0.823\n"
     ]
    }
   ],
   "source": [
    "print_results(*su_model.test(test_file))"
   ]
  },
  {
   "cell_type": "markdown",
   "metadata": {},
   "source": [
    "#### Precision and recall for multiple labels"
   ]
  },
  {
   "cell_type": "code",
   "execution_count": 14,
   "metadata": {},
   "outputs": [
    {
     "name": "stdout",
     "output_type": "stream",
     "text": [
      "N\t113691\n",
      "P@5\t0.200\n",
      "R@5\t1.000\n"
     ]
    }
   ],
   "source": [
    "n, p, r = su_model.test(test_file, 5)\n",
    "print(\"N\\t\" + str(n))\n",
    "print(\"P@{}\\t{:.3f}\".format(5, p))\n",
    "print(\"R@{}\\t{:.3f}\".format(5, r))"
   ]
  },
  {
   "cell_type": "markdown",
   "metadata": {},
   "source": [
    "#### Confusion matrix"
   ]
  },
  {
   "cell_type": "code",
   "execution_count": 15,
   "metadata": {},
   "outputs": [],
   "source": [
    "def get_true_postive_count(cm, model, df, label_column_name, text_column_name, target_class):\n",
    "    predictions = [model.predict(x)[0][0] for x in df[df[label_column_name] == target_class][text_column_name]]\n",
    "    tp_count = len(list(filter(lambda x: x==target_class, predictions)))\n",
    "    index = np.where(cm==tp_count)\n",
    "    if index[0][0] == index[1][0]:\n",
    "        return index[0][0]\n",
    "    else:\n",
    "        raise ValueError('COuld not find the index ' + index)\n",
    "        \n",
    "        \n",
    "def resolve_labels_sequence(classes, cm, model, df, label_column_name, text_column_name):\n",
    "    target_seq = [0] * len(classes)\n",
    "    for label in classes:\n",
    "        index = get_true_postive_count(cm, model, df, label_column_name, text_column_name, label)\n",
    "        target_seq[index] = label\n",
    "    return target_seq\n",
    "\n",
    "\n",
    "def fasttext_confusion_matrix(model, pd_test_data, label_column_name, text_column_name):\n",
    "    test_labels = pd_test_data[label_column_name]\n",
    "    test_labels = np.array(test_labels)\n",
    "    _classes = list(set(test_labels))\n",
    "    pred_labels = [model.predict(x)[0][0] for x in pd_test_data[text_column_name]]\n",
    "    pred_labels = np.array(pred_labels)\n",
    "    eq = test_labels == pred_labels\n",
    "    print(\"Accuracy: \" + str(eq.sum() / len(test_labels)))\n",
    "    cm = confusion_matrix(test_labels, pred_labels)\n",
    "    labels = resolve_labels_sequence(_classes, cm, model, pd_test_data, label_column_name, text_column_name)\n",
    "    print(labels)\n",
    "    print(confusion_matrix(test_labels, pred_labels, labels=labels))\n",
    "    df_cm = pd.DataFrame(cm, index = labels, columns = labels)\n",
    "    plt.figure(figsize = (10,7))\n",
    "    sn.heatmap(df_cm, annot=True)"
   ]
  },
  {
   "cell_type": "code",
   "execution_count": 16,
   "metadata": {},
   "outputs": [
    {
     "name": "stdout",
     "output_type": "stream",
     "text": [
      "Accuracy: 0.8234161015383803\n",
      "['__label__1', '__label__2', '__label__3', '__label__4', '__label__5']\n",
      "[[ 8189   927   476   210   646]\n",
      " [ 1061  3309   779   332   475]\n",
      " [  518   689  5084  1059  1039]\n",
      " [  197   212   963  9632  5088]\n",
      " [  484   260   694  3967 67401]]\n"
     ]
    },
    {
     "data": {
      "image/png": "[encoded data removed]",
      "text/plain": [
       "<Figure size 720x504 with 2 Axes>"
      ]
     },
     "metadata": {},
     "output_type": "display_data"
    }
   ],
   "source": [
    "fasttext_confusion_matrix(su_model, test, 'Score', 'Text')"
   ]
  }
 ],
 "metadata": {
  "kernelspec": {
   "display_name": "Python 3",
   "language": "python",
   "name": "python3"
  },
  "language_info": {
   "codemirror_mode": {
    "name": "ipython",
    "version": 3
   },
   "file_extension": ".py",
   "mimetype": "text/x-python",
   "name": "python",
   "nbconvert_exporter": "python",
   "pygments_lexer": "ipython3",
   "version": "3.5.2"
  }
 },
 "nbformat": 4,
 "nbformat_minor": 2
}
