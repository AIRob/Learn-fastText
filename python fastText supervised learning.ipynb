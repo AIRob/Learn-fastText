{
 "cells": [
  {
   "cell_type": "markdown",
   "metadata": {},
   "source": [
    "This dataset consists of reviews of fine foods from amazon. The data span a period of more than 10 years, including all ~500,000 reviews up to October 2012. Reviews include product and user information, ratings, and a plain text review. It also includes reviews from all other Amazon categories.\n",
    "\n",
    "You can download the dataset from kaggle\n",
    "\n",
    "https://www.kaggle.com/snap/amazon-fine-food-reviews\n"
   ]
  },
  {
   "cell_type": "markdown",
   "metadata": {},
   "source": [
    "The purpose of this model is to show an example of using fastText model for some supervised and unsupervised learning on a csv file."
   ]
  },
  {
   "cell_type": "code",
   "execution_count": 1,
   "metadata": {},
   "outputs": [],
   "source": [
    "import fastText\n",
    "import pandas as pd\n",
    "from sklearn.model_selection import train_test_split\n",
    "import csv\n",
    "import numpy as np\n",
    "from sklearn.metrics import confusion_matrix\n",
    "import seaborn as sn\n",
    "import pandas as pd\n",
    "import matplotlib.pyplot as plt"
   ]
  },
  {
   "cell_type": "markdown",
   "metadata": {},
   "source": [
    "## Data preprocessing\n",
    "\n",
    "Make the transformations in the csv to make it fastText compatible.\n",
    "\n",
    "1. Label column should be first and all the needed text should be the second column\n",
    "1. The labels should be prefixed with '__label__'."
   ]
  },
  {
   "cell_type": "code",
   "execution_count": 2,
   "metadata": {},
   "outputs": [],
   "source": [
    "df = pd.read_csv('data/amazon_reviews.csv')\n",
    "df = df[['Score', 'Text']]\n",
    "df['Score'] = df['Score'].apply(lambda x: '__label__'+str(x))"
   ]
  },
  {
   "cell_type": "code",
   "execution_count": 3,
   "metadata": {},
   "outputs": [
    {
     "data": {
      "text/html": [
       "<div>\n",
       "<style scoped>\n",
       "    .dataframe tbody tr th:only-of-type {\n",
       "        vertical-align: middle;\n",
       "    }\n",
       "\n",
       "    .dataframe tbody tr th {\n",
       "        vertical-align: top;\n",
       "    }\n",
       "\n",
       "    .dataframe thead th {\n",
       "        text-align: right;\n",
       "    }\n",
       "</style>\n",
       "<table border=\"1\" class=\"dataframe\">\n",
       "  <thead>\n",
       "    <tr style=\"text-align: right;\">\n",
       "      <th></th>\n",
       "      <th>Score</th>\n",
       "      <th>Text</th>\n",
       "    </tr>\n",
       "  </thead>\n",
       "  <tbody>\n",
       "    <tr>\n",
       "      <th>0</th>\n",
       "      <td>__label__5</td>\n",
       "      <td>I have bought several of the Vitality canned d...</td>\n",
       "    </tr>\n",
       "    <tr>\n",
       "      <th>1</th>\n",
       "      <td>__label__1</td>\n",
       "      <td>Product arrived labeled as Jumbo Salted Peanut...</td>\n",
       "    </tr>\n",
       "    <tr>\n",
       "      <th>2</th>\n",
       "      <td>__label__4</td>\n",
       "      <td>This is a confection that has been around a fe...</td>\n",
       "    </tr>\n",
       "    <tr>\n",
       "      <th>3</th>\n",
       "      <td>__label__2</td>\n",
       "      <td>If you are looking for the secret ingredient i...</td>\n",
       "    </tr>\n",
       "    <tr>\n",
       "      <th>4</th>\n",
       "      <td>__label__5</td>\n",
       "      <td>Great taffy at a great price.  There was a wid...</td>\n",
       "    </tr>\n",
       "  </tbody>\n",
       "</table>\n",
       "</div>"
      ],
      "text/plain": [
       "        Score                                               Text\n",
       "0  __label__5  I have bought several of the Vitality canned d...\n",
       "1  __label__1  Product arrived labeled as Jumbo Salted Peanut...\n",
       "2  __label__4  This is a confection that has been around a fe...\n",
       "3  __label__2  If you are looking for the secret ingredient i...\n",
       "4  __label__5  Great taffy at a great price.  There was a wid..."
      ]
     },
     "execution_count": 3,
     "metadata": {},
     "output_type": "execute_result"
    }
   ],
   "source": [
    "df.head()"
   ]
  },
  {
   "cell_type": "markdown",
   "metadata": {},
   "source": [
    "Split the whole dataset into training and validation.\n",
    "Then you will need to save the file generated. fastText uses the c++ api of the internal so that it is fasttext and it is able to read from a file only. Hence you cannot pass pandas dataframe or other general objects into fastText directly. It needs to be saved in a text file format.  Acceptable separators: space '\\s' and tabs '\\t'"
   ]
  },
  {
   "cell_type": "code",
   "execution_count": 4,
   "metadata": {},
   "outputs": [],
   "source": [
    "train, test = train_test_split(df, test_size=0.2)\n",
    "train_file = 'data/ft_amazon_reviews_train.csv'\n",
    "test_file = 'data/ft_amazon_reviews_test.csv'\n",
    "train.to_csv(\"data/ft_amazon_reviews_train.csv\", sep=\"\\t\", quoting=csv.QUOTE_NONE, index=False, header=False)\n",
    "test.to_csv(\"data/ft_amazon_reviews_test.csv\", sep=\"\\t\", quoting=csv.QUOTE_NONE, index=False, header=False)"
   ]
  },
  {
   "cell_type": "markdown",
   "metadata": {},
   "source": [
    "## Model training"
   ]
  },
  {
   "cell_type": "code",
   "execution_count": 5,
   "metadata": {},
   "outputs": [],
   "source": [
    "sg_model = fastText.train_supervised(input=train_file, epoch=25, lr=1.0, wordNgrams=2, verbose=2, minCount=1)"
   ]
  },
  {
   "cell_type": "markdown",
   "metadata": {},
   "source": [
    "## Model Performance\n",
    "\n",
    "Simple precision and recall"
   ]
  },
  {
   "cell_type": "code",
   "execution_count": 6,
   "metadata": {},
   "outputs": [],
   "source": [
    "def print_results(N, p, r):\n",
    "    print(\"N\\t\" + str(N))\n",
    "    print(\"P@{}\\t{:.3f}\".format(1, p))\n",
    "    print(\"R@{}\\t{:.3f}\".format(1, r))"
   ]
  },
  {
   "cell_type": "code",
   "execution_count": 7,
   "metadata": {},
   "outputs": [
    {
     "name": "stdout",
     "output_type": "stream",
     "text": [
      "N\t113691\n",
      "P@1\t0.827\n",
      "R@1\t0.827\n"
     ]
    }
   ],
   "source": [
    "print_results(*sg_model.test(test_file))"
   ]
  },
  {
   "cell_type": "markdown",
   "metadata": {},
   "source": [
    "Confusion matrix"
   ]
  },
  {
   "cell_type": "code",
   "execution_count": 8,
   "metadata": {},
   "outputs": [
    {
     "data": {
      "text/plain": [
       "264989    I generally like anything coffee related so I ...\n",
       "187976    ...if she could get her head out of this bag o...\n",
       "157242    This tea is HIGHLY addictive.  I have a glass ...\n",
       "101851    I'm a big fan of Walker's shortbread (Scotland...\n",
       "370823    These are not original cliff bars, but the sma...\n",
       "Name: Text, dtype: object"
      ]
     },
     "execution_count": 8,
     "metadata": {},
     "output_type": "execute_result"
    }
   ],
   "source": [
    "test['Text'].head()"
   ]
  },
  {
   "cell_type": "code",
   "execution_count": 9,
   "metadata": {},
   "outputs": [],
   "source": [
    "def get_true_postive_count(cm, model, df, label_column_name, text_column_name, target_class):\n",
    "    predictions = [model.predict(x)[0][0] for x in df[df[label_column_name] == target_class][text_column_name]]\n",
    "    tp_count = len(list(filter(lambda x: x==target_class, predictions)))\n",
    "    index = np.where(cm==tp_count)\n",
    "    if index[0][0] == index[1][0]:\n",
    "        return index[0][0]\n",
    "    else:\n",
    "        raise ValueError('COuld not find the index ' + index)\n",
    "        \n",
    "        \n",
    "def resolve_labels_sequence(classes, cm, model, df, label_column_name, text_column_name):\n",
    "    target_seq = [0] * len(classes)\n",
    "    for label in classes:\n",
    "        index = get_true_postive_count(cm, model, df, label_column_name, text_column_name, label)\n",
    "        target_seq[index] = label\n",
    "    return target_seq\n",
    "\n",
    "\n",
    "def fasttext_confusion_matrix(model, pd_test_data, label_column_name, text_column_name):\n",
    "    test_labels = pd_test_data[label_column_name]\n",
    "    test_labels = np.array(test_labels)\n",
    "    _classes = list(set(test_labels))\n",
    "    pred_labels = [model.predict(x)[0][0] for x in pd_test_data[text_column_name]]\n",
    "    pred_labels = np.array(pred_labels)\n",
    "    eq = test_labels == pred_labels\n",
    "    print(\"Accuracy: \" + str(eq.sum() / len(test_labels)))\n",
    "    cm = confusion_matrix(test_labels, pred_labels)\n",
    "    labels = resolve_labels_sequence(_classes, cm, model, pd_test_data, label_column_name, text_column_name)\n",
    "    print(labels)\n",
    "    print(confusion_matrix(test_labels, pred_labels, labels=labels))\n",
    "    return cm, labels"
   ]
  },
  {
   "cell_type": "code",
   "execution_count": 10,
   "metadata": {},
   "outputs": [
    {
     "name": "stdout",
     "output_type": "stream",
     "text": [
      "Accuracy: 0.8266793325768971\n",
      "['__label__1', '__label__2', '__label__3', '__label__4', '__label__5']\n",
      "[[ 8073   851   450   201   797]\n",
      " [ 1078  3269   831   333   539]\n",
      " [  487   636  5141  1133  1091]\n",
      " [  194   215   917  9507  5267]\n",
      " [  454   238   585  3408 67996]]\n"
     ]
    }
   ],
   "source": [
    "cm, labels = fasttext_confusion_matrix(sg_model, test, 'Score', 'Text')"
   ]
  },
  {
   "cell_type": "code",
   "execution_count": 11,
   "metadata": {},
   "outputs": [
    {
     "data": {
      "text/plain": [
       "<matplotlib.axes._subplots.AxesSubplot at 0x7fa98094b160>"
      ]
     },
     "execution_count": 11,
     "metadata": {},
     "output_type": "execute_result"
    },
    {
     "data": {
      "image/png": "[encoded data removed]",
      "text/plain": [
       "<Figure size 720x504 with 2 Axes>"
      ]
     },
     "metadata": {},
     "output_type": "display_data"
    }
   ],
   "source": [
    "array = cm\n",
    "df_cm = pd.DataFrame(array, index = labels, columns = labels)\n",
    "plt.figure(figsize = (10,7))\n",
    "sn.heatmap(df_cm, annot=True)"
   ]
  }
 ],
 "metadata": {
  "kernelspec": {
   "display_name": "Python 3",
   "language": "python",
   "name": "python3"
  },
  "language_info": {
   "codemirror_mode": {
    "name": "ipython",
    "version": 3
   },
   "file_extension": ".py",
   "mimetype": "text/x-python",
   "name": "python",
   "nbconvert_exporter": "python",
   "pygments_lexer": "ipython3",
   "version": "3.5.2"
  }
 },
 "nbformat": 4,
 "nbformat_minor": 2
}
