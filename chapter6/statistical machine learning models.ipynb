{
 "cells": [
  {
   "cell_type": "markdown",
   "metadata": {},
   "source": [
    "This notebook is to understand how we can integrate fasttext word vectors in statistical models using scikit-learn. This notebook is inspired a lot from the below notebook.\n",
    "\n",
    "https://github.com/nadbordrozd/blog_stuff/blob/master/classification_w2v/benchmarking_python3.ipynb"
   ]
  },
  {
   "cell_type": "code",
   "execution_count": 1,
   "metadata": {},
   "outputs": [
    {
     "name": "stderr",
     "output_type": "stream",
     "text": [
      "/data/joydeep/pytorchfasttext/vevn/lib/python3.5/site-packages/sklearn/cross_validation.py:41: DeprecationWarning: This module was deprecated in version 0.18 in favor of the model_selection module into which all the refactored classes and functions are moved. Also note that the interface of the new CV iterators are different from that of this module. This module will be removed in 0.20.\n",
      "  \"This module will be removed in 0.20.\", DeprecationWarning)\n"
     ]
    }
   ],
   "source": [
    "from tabulate import tabulate\n",
    "%matplotlib inline\n",
    "import matplotlib.pyplot as plt\n",
    "import seaborn as sns\n",
    "import pandas as pd\n",
    "import numpy as np\n",
    "from collections import Counter, defaultdict\n",
    "from sklearn.feature_extraction.text import CountVectorizer\n",
    "from sklearn.feature_extraction.text import TfidfVectorizer\n",
    "from sklearn.ensemble import ExtraTreesClassifier\n",
    "from sklearn.naive_bayes import BernoulliNB, MultinomialNB\n",
    "from sklearn.pipeline import Pipeline\n",
    "from sklearn.svm import SVC\n",
    "from sklearn.metrics import accuracy_score\n",
    "from sklearn.cross_validation import cross_val_score\n",
    "from sklearn.cross_validation import StratifiedShuffleSplit\n",
    "from nltk import word_tokenize\n",
    "from fastText import load_model\n",
    "\n",
    "FT_MODEL = \"wiki.simple.bin\"\n",
    "encoding=\"utf-8\""
   ]
  },
  {
   "cell_type": "code",
   "execution_count": 2,
   "metadata": {},
   "outputs": [
    {
     "name": "stdout",
     "output_type": "stream",
     "text": [
      "dataset loaded with shape (5261668, 2)\n"
     ]
    },
    {
     "data": {
      "text/html": [
       "<div>\n",
       "<style scoped>\n",
       "    .dataframe tbody tr th:only-of-type {\n",
       "        vertical-align: middle;\n",
       "    }\n",
       "\n",
       "    .dataframe tbody tr th {\n",
       "        vertical-align: top;\n",
       "    }\n",
       "\n",
       "    .dataframe thead th {\n",
       "        text-align: right;\n",
       "    }\n",
       "</style>\n",
       "<table border=\"1\" class=\"dataframe\">\n",
       "  <thead>\n",
       "    <tr style=\"text-align: right;\">\n",
       "      <th></th>\n",
       "      <th>text</th>\n",
       "      <th>stars</th>\n",
       "    </tr>\n",
       "  </thead>\n",
       "  <tbody>\n",
       "    <tr>\n",
       "      <th>0</th>\n",
       "      <td>Super simple place but amazing nonetheless. It...</td>\n",
       "      <td>5</td>\n",
       "    </tr>\n",
       "    <tr>\n",
       "      <th>1</th>\n",
       "      <td>Small unassuming place that changes their menu...</td>\n",
       "      <td>5</td>\n",
       "    </tr>\n",
       "    <tr>\n",
       "      <th>2</th>\n",
       "      <td>Lester's is located in a beautiful neighborhoo...</td>\n",
       "      <td>5</td>\n",
       "    </tr>\n",
       "    <tr>\n",
       "      <th>3</th>\n",
       "      <td>Love coming here. Yes the place always needs t...</td>\n",
       "      <td>4</td>\n",
       "    </tr>\n",
       "    <tr>\n",
       "      <th>4</th>\n",
       "      <td>Had their chocolate almond croissant and it wa...</td>\n",
       "      <td>4</td>\n",
       "    </tr>\n",
       "  </tbody>\n",
       "</table>\n",
       "</div>"
      ],
      "text/plain": [
       "                                                text  stars\n",
       "0  Super simple place but amazing nonetheless. It...      5\n",
       "1  Small unassuming place that changes their menu...      5\n",
       "2  Lester's is located in a beautiful neighborhoo...      5\n",
       "3  Love coming here. Yes the place always needs t...      4\n",
       "4  Had their chocolate almond croissant and it wa...      4"
      ]
     },
     "execution_count": 2,
     "metadata": {},
     "output_type": "execute_result"
    }
   ],
   "source": [
    "def ingest():\n",
    "    data = pd.read_csv('./yelp_review.csv')\n",
    "    data = data[data['text'].isnull() == False]\n",
    "    data = data[data['stars'].isnull() == False]\n",
    "    data['stars'] = data['stars'].map(int)\n",
    "    data = data[['text', 'stars']]\n",
    "    print ('dataset loaded with shape', data.shape)    \n",
    "    return data\n",
    "\n",
    "data = ingest()\n",
    "data.head(5)"
   ]
  },
  {
   "cell_type": "code",
   "execution_count": 3,
   "metadata": {},
   "outputs": [
    {
     "data": {
      "text/plain": [
       "['i',\n",
       " 'do',\n",
       " \"n't\",\n",
       " 'like',\n",
       " 'this',\n",
       " 'restaurant',\n",
       " '.',\n",
       " 'lets',\n",
       " 'go',\n",
       " 'somewhere',\n",
       " 'else',\n",
       " '.']"
      ]
     },
     "execution_count": 3,
     "metadata": {},
     "output_type": "execute_result"
    }
   ],
   "source": [
    "def tokenize(comment):\n",
    "    \"\"\"If comment present then tokenise the comment using nltk else return no comment.\"\"\"\n",
    "    try:\n",
    "        comment = comment.lower()\n",
    "        tokens = word_tokenize(comment)\n",
    "        return list(tokens)\n",
    "    except:\n",
    "        return 'NC'\n",
    "    \n",
    "tokenize(\"I don't like this restaurant.\\n lets go somewhere else.\")"
   ]
  },
  {
   "cell_type": "code",
   "execution_count": 4,
   "metadata": {},
   "outputs": [
    {
     "name": "stderr",
     "output_type": "stream",
     "text": [
      "/data/joydeep/pytorchfasttext/vevn/lib/python3.5/site-packages/ipykernel_launcher.py:4: SettingWithCopyWarning: \n",
      "A value is trying to be set on a copy of a slice from a DataFrame.\n",
      "Try using .loc[row_indexer,col_indexer] = value instead\n",
      "\n",
      "See the caveats in the documentation: http://pandas.pydata.org/pandas-docs/stable/indexing.html#indexing-view-versus-copy\n",
      "  after removing the cwd from sys.path.\n"
     ]
    },
    {
     "data": {
      "text/html": [
       "<div>\n",
       "<style scoped>\n",
       "    .dataframe tbody tr th:only-of-type {\n",
       "        vertical-align: middle;\n",
       "    }\n",
       "\n",
       "    .dataframe tbody tr th {\n",
       "        vertical-align: top;\n",
       "    }\n",
       "\n",
       "    .dataframe thead th {\n",
       "        text-align: right;\n",
       "    }\n",
       "</style>\n",
       "<table border=\"1\" class=\"dataframe\">\n",
       "  <thead>\n",
       "    <tr style=\"text-align: right;\">\n",
       "      <th></th>\n",
       "      <th>text</th>\n",
       "      <th>stars</th>\n",
       "      <th>tokens</th>\n",
       "    </tr>\n",
       "  </thead>\n",
       "  <tbody>\n",
       "    <tr>\n",
       "      <th>0</th>\n",
       "      <td>Super simple place but amazing nonetheless. It...</td>\n",
       "      <td>5</td>\n",
       "      <td>[super, simple, place, but, amazing, nonethele...</td>\n",
       "    </tr>\n",
       "    <tr>\n",
       "      <th>1</th>\n",
       "      <td>Small unassuming place that changes their menu...</td>\n",
       "      <td>5</td>\n",
       "      <td>[small, unassuming, place, that, changes, thei...</td>\n",
       "    </tr>\n",
       "    <tr>\n",
       "      <th>2</th>\n",
       "      <td>Lester's is located in a beautiful neighborhoo...</td>\n",
       "      <td>5</td>\n",
       "      <td>[lester, 's, is, located, in, a, beautiful, ne...</td>\n",
       "    </tr>\n",
       "    <tr>\n",
       "      <th>3</th>\n",
       "      <td>Love coming here. Yes the place always needs t...</td>\n",
       "      <td>4</td>\n",
       "      <td>[love, coming, here, ., yes, the, place, alway...</td>\n",
       "    </tr>\n",
       "    <tr>\n",
       "      <th>4</th>\n",
       "      <td>Had their chocolate almond croissant and it wa...</td>\n",
       "      <td>4</td>\n",
       "      <td>[had, their, chocolate, almond, croissant, and...</td>\n",
       "    </tr>\n",
       "  </tbody>\n",
       "</table>\n",
       "</div>"
      ],
      "text/plain": [
       "                                                text  stars  \\\n",
       "0  Super simple place but amazing nonetheless. It...      5   \n",
       "1  Small unassuming place that changes their menu...      5   \n",
       "2  Lester's is located in a beautiful neighborhoo...      5   \n",
       "3  Love coming here. Yes the place always needs t...      4   \n",
       "4  Had their chocolate almond croissant and it wa...      4   \n",
       "\n",
       "                                              tokens  \n",
       "0  [super, simple, place, but, amazing, nonethele...  \n",
       "1  [small, unassuming, place, that, changes, thei...  \n",
       "2  [lester, 's, is, located, in, a, beautiful, ne...  \n",
       "3  [love, coming, here, ., yes, the, place, alway...  \n",
       "4  [had, their, chocolate, almond, croissant, and...  "
      ]
     },
     "execution_count": 4,
     "metadata": {},
     "output_type": "execute_result"
    }
   ],
   "source": [
    "def postprocess(data, n=-1):\n",
    "    if n != -1:\n",
    "        data = data.head(n)\n",
    "    data['tokens'] = data['text'].apply(tokenize)  ## progress_map is a variant of the map function plus a progress bar. Handy to monitor DataFrame creations.\n",
    "    data = data[data.tokens != 'NC']\n",
    "    return data\n",
    "\n",
    "data = postprocess(data, 100000)\n",
    "data.head()"
   ]
  },
  {
   "cell_type": "code",
   "execution_count": 5,
   "metadata": {},
   "outputs": [],
   "source": [
    "f = load_model(FT_MODEL)\n",
    "\n",
    "all_words = set([x for tokens in data['tokens'].values for x in tokens])\n",
    "\n",
    "wv_dictionary = {w: f.get_word_vector(w) for w in all_words}"
   ]
  },
  {
   "cell_type": "code",
   "execution_count": 6,
   "metadata": {},
   "outputs": [],
   "source": [
    "class MeanEmbeddingVectorizer(object):\n",
    "    \"\"\"Take the word vectors and return the mean of the vectors\"\"\"\n",
    "    def __init__(self, ft_wv):\n",
    "        self.ft_wv = ft_wv\n",
    "        if len(ft_wv)>0:\n",
    "            self.dim = ft_wv[next(iter(all_words))].shape[0] \n",
    "        else:\n",
    "            self.dim=0\n",
    "            \n",
    "    def fit(self, X, y):\n",
    "        return self \n",
    "\n",
    "    def transform(self, X):\n",
    "        return np.array([\n",
    "            np.mean([self.ft_wv[w] for w in words if w in self.ft_wv] \n",
    "                    or [np.zeros(self.dim)], axis=0)\n",
    "            for words in X\n",
    "        ])\n",
    "\n",
    "    \n",
    "# and a tf-idf version of the same\n",
    "class TfidfEmbeddingVectorizer(object):\n",
    "    def __init__(self, ft_wv):\n",
    "        self.ft_wv = ft_wv\n",
    "        self.word2weight = None\n",
    "        if len(ft_wv) > 0:\n",
    "            self.dim = ft_wv[next(iter(all_words))].shape[0]\n",
    "        else:\n",
    "            self.dim=0\n",
    "        \n",
    "    def fit(self, X, y):\n",
    "        tfidf = TfidfVectorizer(analyzer=lambda x: x)\n",
    "        tfidf.fit(X)\n",
    "        # if a word was never seen - it must be at least as infrequent\n",
    "        # as any of the known words - so the default idf is the max of \n",
    "        # known idf's\n",
    "        max_idf = max(tfidf.idf_)\n",
    "        self.word2weight = defaultdict(\n",
    "            lambda: max_idf, \n",
    "            [(w, tfidf.idf_[i]) for w, i in tfidf.vocabulary_.items()])\n",
    "    \n",
    "        return self\n",
    "    \n",
    "    def transform(self, X):\n",
    "        return np.array([\n",
    "                np.mean([self.ft_wv[w] * self.word2weight[w]\n",
    "                         for w in words if w in self.ft_wv] or\n",
    "                        [np.zeros(self.dim)], axis=0)\n",
    "                for words in X\n",
    "            ])"
   ]
  },
  {
   "cell_type": "code",
   "execution_count": 7,
   "metadata": {},
   "outputs": [],
   "source": [
    "etree_w2v = Pipeline([(\"fasttext word-vector vectorizer\", MeanEmbeddingVectorizer(wv_dictionary)), \n",
    "                        (\"extra trees\", ExtraTreesClassifier(n_estimators=200))])"
   ]
  },
  {
   "cell_type": "code",
   "execution_count": 8,
   "metadata": {},
   "outputs": [],
   "source": [
    "all_models = [\n",
    "    (\"w2v\", etree_w2v),\n",
    "]"
   ]
  },
  {
   "cell_type": "code",
   "execution_count": 9,
   "metadata": {},
   "outputs": [],
   "source": [
    "X, y = data['tokens'], data['stars']"
   ]
  },
  {
   "cell_type": "code",
   "execution_count": 10,
   "metadata": {},
   "outputs": [],
   "source": [
    "def benchmark(model, X, y, n):\n",
    "    test_size = 1 - (n / float(len(y)))\n",
    "    scores = []\n",
    "    for train, test in StratifiedShuffleSplit(y, n_iter=5, test_size=test_size):\n",
    "        X_train, X_test = X[train], X[test]\n",
    "        y_train, y_test = y[train], y[test]\n",
    "        scores.append(accuracy_score(model.fit(X_train, y_train).predict(X_test), y_test))\n",
    "    return np.mean(scores)"
   ]
  },
  {
   "cell_type": "code",
   "execution_count": 11,
   "metadata": {},
   "outputs": [
    {
     "name": "stdout",
     "output_type": "stream",
     "text": [
      "model      score\n",
      "-------  -------\n",
      "w2v       0.5219\n"
     ]
    }
   ],
   "source": [
    "unsorted_scores = [(name, cross_val_score(model, X, y, cv=5).mean()) for name, model in all_models]\n",
    "scores = sorted(unsorted_scores, key=lambda x: -x[1])\n",
    "\n",
    "print(tabulate(scores, floatfmt=\".4f\", headers=(\"model\", 'score')))\n",
    "\n",
    "\n",
    "train_sizes = [1000, 4000, 16000, 32000, 64000, 80000]\n",
    "table = []\n",
    "for name, model in all_models:\n",
    "    for n in train_sizes:\n",
    "        table.append({'model': name, \n",
    "                      'accuracy': benchmark(model, X, y, n), \n",
    "                      'train_size': n})\n",
    "df = pd.DataFrame(table)"
   ]
  },
  {
   "cell_type": "code",
   "execution_count": 12,
   "metadata": {},
   "outputs": [
    {
     "data": {
      "text/plain": [
       "[Text(0,0.5,'accuracy')]"
      ]
     },
     "execution_count": 12,
     "metadata": {},
     "output_type": "execute_result"
    },
    {
     "data": {
      "image/png": "[encoded data removed]",
      "text/plain": [
       "<Figure size 1080x432 with 1 Axes>"
      ]
     },
     "metadata": {},
     "output_type": "display_data"
    }
   ],
   "source": [
    "plt.figure(figsize=(15, 6))\n",
    "fig = sns.pointplot(x='train_size', y='accuracy', hue='model', \n",
    "                    data=df[df.model.map(lambda x: x in [\"w2v\"])])\n",
    "sns.set_context(\"notebook\", font_scale=1.5)\n",
    "fig.set(ylabel=\"accuracy\")\n",
    "fig.set(xlabel=\"labeled training examples\")\n",
    "fig.set(title=\"R52 benchmark\")\n",
    "fig.set(ylabel=\"accuracy\")"
   ]
  }
 ],
 "metadata": {
  "kernelspec": {
   "display_name": "Python 3",
   "language": "python",
   "name": "python3"
  },
  "language_info": {
   "codemirror_mode": {
    "name": "ipython",
    "version": 3
   },
   "file_extension": ".py",
   "mimetype": "text/x-python",
   "name": "python",
   "nbconvert_exporter": "python",
   "pygments_lexer": "ipython3",
   "version": "3.5.2"
  }
 },
 "nbformat": 4,
 "nbformat_minor": 2
}
