{
 "cells": [
  {
   "cell_type": "code",
   "execution_count": 2,
   "metadata": {},
   "outputs": [],
   "source": [
    "import fastText\n",
    "from fastText.util.util import find_nearest_neighbor\n",
    "from fastText import load_model\n",
    "import pandas as pd\n",
    "import re\n",
    "import numpy as np\n",
    "import csv\n",
    "import os\n",
    "from scipy import stats\n",
    "from sklearn.manifold import TSNE\n",
    "import matplotlib.pyplot as plt\n",
    "%matplotlib inline"
   ]
  },
  {
   "cell_type": "markdown",
   "metadata": {},
   "source": [
    "### Data preprocessing"
   ]
  },
  {
   "cell_type": "code",
   "execution_count": 5,
   "metadata": {},
   "outputs": [],
   "source": [
    "def normalize(s):\n",
    "    \"\"\"\n",
    "    Given a text, cleans and normalizes it. Feel free to add your own stuff.\n",
    "    \"\"\"\n",
    "    s = s.lower()\n",
    "    # Replace ips\n",
    "    s = re.sub(r'\\d{1,3}\\.\\d{1,3}\\.\\d{1,3}\\.\\d{1,3}', ' _ip_ ', s)\n",
    "    # Isolate punctuation\n",
    "    s = re.sub(r'([.\\(\\)\\!\\?\\-\\\\\\/\\,])', r' \\1 ', s)\n",
    "    # Remove some special characters\n",
    "    s = re.sub(r'([\\;\\:\\|•«\\n])', ' ', s)\n",
    "    # Replace numbers and symbols with language\n",
    "    s = s.replace('&', ' and ')\n",
    "    s = s.replace('@', ' at ')\n",
    "    s = s.replace('0', ' zero ')\n",
    "    s = s.replace('1', ' one ')\n",
    "    s = s.replace('2', ' two ')\n",
    "    s = s.replace('3', ' three ')\n",
    "    s = s.replace('4', ' four ')\n",
    "    s = s.replace('5', ' five ')\n",
    "    s = s.replace('6', ' six ')\n",
    "    s = s.replace('7', ' seven ')\n",
    "    s = s.replace('8', ' eight ')\n",
    "    s = s.replace('9', ' nine ')\n",
    "    return s"
   ]
  },
  {
   "cell_type": "code",
   "execution_count": 6,
   "metadata": {},
   "outputs": [],
   "source": [
    "df = pd.read_csv('data/amazon_reviews.csv')\n",
    "df = df[['Score', 'Text']]\n",
    "df['Text'] = df['Text'].apply(normalize)"
   ]
  },
  {
   "cell_type": "code",
   "execution_count": 7,
   "metadata": {},
   "outputs": [],
   "source": [
    "with open('data/ft_amazon_review_sg.txt', 'w') as f:\n",
    "    for line in df['Text'].values:\n",
    "        f.write(line)\n",
    "        f.write('\\n')"
   ]
  },
  {
   "cell_type": "markdown",
   "metadata": {},
   "source": [
    "### Model training"
   ]
  },
  {
   "cell_type": "markdown",
   "metadata": {},
   "source": [
    "#### Skipgram model"
   ]
  },
  {
   "cell_type": "code",
   "execution_count": null,
   "metadata": {},
   "outputs": [],
   "source": [
    "sg_model = fastText.train_unsupervised(input='data/ft_amazon_review_sg.txt', model='skipgram', loss='hs')"
   ]
  },
  {
   "cell_type": "markdown",
   "metadata": {},
   "source": [
    "#### CBOW model"
   ]
  },
  {
   "cell_type": "code",
   "execution_count": 5,
   "metadata": {},
   "outputs": [],
   "source": [
    "cbow_model = fastText.train_unsupervised(input='data/ft_amazon_review_sg.txt', model='cbow')"
   ]
  },
  {
   "cell_type": "markdown",
   "metadata": {},
   "source": [
    "#### Model saving"
   ]
  },
  {
   "cell_type": "code",
   "execution_count": 16,
   "metadata": {},
   "outputs": [],
   "source": [
    "sg_model.save_model('sg_model.bin')"
   ]
  },
  {
   "cell_type": "markdown",
   "metadata": {},
   "source": [
    "### Model Evaluation"
   ]
  },
  {
   "cell_type": "markdown",
   "metadata": {},
   "source": [
    "#### Printing word vectors"
   ]
  },
  {
   "cell_type": "code",
   "execution_count": 6,
   "metadata": {},
   "outputs": [
    {
     "data": {
      "text/plain": [
       "array([ 0.09973086,  0.3789138 , -0.09280153, -0.2063776 , -0.00136075,\n",
       "        0.22144231, -0.1753495 ,  0.01298006,  0.5884207 ,  0.10930541,\n",
       "       -0.41569617, -0.08915557, -0.52896905, -0.09854081, -0.24814712,\n",
       "       -0.19752008,  0.29952165,  0.10795955, -0.46471965,  0.6555143 ,\n",
       "       -0.16456594, -0.1838903 , -0.03493755,  0.38635793, -0.48456028,\n",
       "       -0.48487735,  0.50574446,  0.39809486, -0.07289422,  0.11037765,\n",
       "       -0.13971555, -0.06094686,  0.01284895, -0.25374317,  0.13303402,\n",
       "        0.04944976, -0.5098926 ,  0.05364704, -0.42145744, -0.4509461 ,\n",
       "       -0.06302164,  0.14843269, -0.27428162,  0.4909284 , -0.27852222,\n",
       "        0.4506764 , -0.60105354, -0.19211714,  0.7363476 ,  0.01090266,\n",
       "        0.07183076, -0.31341296,  0.04354738,  0.37570572,  0.3671246 ,\n",
       "       -0.2912365 , -0.4500444 ,  0.12443078, -0.18029954, -0.31032625,\n",
       "        0.3680062 , -0.2671186 ,  0.23326209, -0.08299574, -0.13039891,\n",
       "        0.17342287,  0.37733606, -0.06472205,  0.37249056, -0.6440997 ,\n",
       "       -0.22218691, -0.03225479, -0.00200178, -0.00528423, -0.3801449 ,\n",
       "       -0.08248109, -0.10556781,  0.35287213,  0.242732  ,  0.33677185,\n",
       "        0.03142754,  0.05424006, -0.21548651,  0.04993582,  0.06163189,\n",
       "        0.07374758, -0.22518514,  0.02137538, -0.11926044,  0.05131933,\n",
       "       -0.21077108,  0.60629165,  0.19242643, -0.28937733,  0.06775833,\n",
       "       -0.14086333,  0.28442633,  0.04377102,  0.23684111,  0.14613365],\n",
       "      dtype=float32)"
      ]
     },
     "execution_count": 6,
     "metadata": {},
     "output_type": "execute_result"
    }
   ],
   "source": [
    "sg_model.get_word_vector('chocolate')"
   ]
  },
  {
   "cell_type": "code",
   "execution_count": 7,
   "metadata": {},
   "outputs": [
    {
     "name": "stdout",
     "output_type": "stream",
     "text": [
      "(['something', '<so', '<som', '<some', '<somet', 'som', 'some', 'somet', 'someth', 'ome', 'omet', 'ometh', 'omethi', 'met', 'meth', 'methi', 'methin', 'eth', 'ethi', 'ethin', 'ething', 'thi', 'thin', 'thing', 'thing>', 'hin', 'hing', 'hing>', 'ing', 'ing>', 'ng>'], array([    168, 1748605,  623824, 1031135,  992673,  491062, 1290905,\n",
      "        219015,   88509, 1290412, 1992184,  616400, 1709691, 1420625,\n",
      "       1547131,  490230,  150536, 1329700,  985911,  363099, 1243108,\n",
      "       2035600, 2038170,  420919,  557515,   93124,  238793,  299125,\n",
      "        834851,  653895,  280444]))\n"
     ]
    }
   ],
   "source": [
    "print(sg_model.get_subwords('something'))"
   ]
  },
  {
   "cell_type": "markdown",
   "metadata": {},
   "source": [
    "#### Nearest Neighbor Queries"
   ]
  },
  {
   "cell_type": "code",
   "execution_count": 8,
   "metadata": {},
   "outputs": [],
   "source": [
    "def get_nn_words(question, cossims, model, words, vectors, k=1):\n",
    "    question = question.lower().strip()\n",
    "    if question not in words:\n",
    "        print(question, ' not in vocabulary')\n",
    "    query = question\n",
    "    query = model.get_word_vector(query)\n",
    "    query = query / np.linalg.norm(query)\n",
    "    seen_words = [question]\n",
    "    for _ in range(k):\n",
    "        ban_set = list(map(lambda x: words.index(x), seen_words))\n",
    "        nn = words[find_nearest_neighbor(query, vectors, ban_set, cossims=cossims)]\n",
    "        seen_words.append(nn)\n",
    "        yield nn\n",
    "\n",
    "def nn(model, question_words, k, threshold=100000):\n",
    "    # Gets words with associated frequeny sorted by default by descending order\n",
    "    words, freq = model.get_words(include_freq=True)\n",
    "    words = words[:threshold]\n",
    "    vectors = np.zeros((len(words), model.get_dimension()), dtype=float)\n",
    "    for i in range(len(words)):\n",
    "        wv = model.get_word_vector(words[i])\n",
    "        wv = wv / np.linalg.norm(wv)\n",
    "        vectors[i] = wv\n",
    "\n",
    "    # For efficiency preallocate the memory to calculate cosine similarities\n",
    "    cossims = np.zeros(len(words), dtype=float)\n",
    "    if isinstance(question_words, str):\n",
    "        questions = question_words.split(',')\n",
    "    elif isinstance(question_words, list):\n",
    "        questions = question_words\n",
    "    else:\n",
    "        raise ValueError('please give question_words as a comma separated string or list')\n",
    "    for question in questions:\n",
    "        print('words similar to {}:'.format(question))\n",
    "        for w in get_nn_words(question, cossims, model, words, vectors, k):\n",
    "            print(w)\n",
    "        print('#########################################')"
   ]
  },
  {
   "cell_type": "code",
   "execution_count": 9,
   "metadata": {},
   "outputs": [
    {
     "name": "stdout",
     "output_type": "stream",
     "text": [
      "words similar to dog:\n",
      "dogs\n",
      "pup\n",
      "treats\n",
      "puppy\n",
      "dogie\n",
      "#########################################\n",
      "words similar to pizza:\n",
      "pizza;\n",
      "pizza\"\n",
      "pizzas\n",
      "\"pizza\n",
      "bread\n",
      "#########################################\n",
      "words similar to hungry:\n",
      "hungry\";\n",
      "hungrygirl\n",
      ">hungry\n",
      "hungry-girl\n",
      "hungries\n",
      "#########################################\n"
     ]
    }
   ],
   "source": [
    "nn(sg_model, ['dog', 'pizza', 'hungry'], k=5)"
   ]
  },
  {
   "cell_type": "markdown",
   "metadata": {},
   "source": [
    "#### Word analogies"
   ]
  },
  {
   "cell_type": "code",
   "execution_count": null,
   "metadata": {},
   "outputs": [],
   "source": []
  },
  {
   "cell_type": "code",
   "execution_count": null,
   "metadata": {},
   "outputs": [],
   "source": []
  },
  {
   "cell_type": "code",
   "execution_count": null,
   "metadata": {},
   "outputs": [],
   "source": []
  },
  {
   "cell_type": "markdown",
   "metadata": {},
   "source": [
    "#### Word Similarity\n",
    "\n",
    "You can find similar words by calculating the cosine similarity between the vectors of words. There are many other functions that you can use to find the similarity. There is also the word mover distance which we will take a look at when we are looking at gensim models."
   ]
  },
  {
   "cell_type": "code",
   "execution_count": 11,
   "metadata": {},
   "outputs": [
    {
     "name": "stdout",
     "output_type": "stream",
     "text": [
      "0.7820549\n",
      "0.80972564\n"
     ]
    }
   ],
   "source": [
    "def similarity(v1, v2):\n",
    "    n1 = np.linalg.norm(v1)\n",
    "    n2 = np.linalg.norm(v2)\n",
    "    return np.dot(v1, v2) / n1 / n2\n",
    "\n",
    "v1 = sg_model.get_word_vector('drink')\n",
    "v2 = sg_model.get_word_vector('drinks')\n",
    "print(similarity(v1, v2))\n",
    "\n",
    "v1 = cbow_model.get_word_vector('drink')\n",
    "v2 = cbow_model.get_word_vector('drinks')\n",
    "print(similarity(v1, v2))"
   ]
  },
  {
   "cell_type": "markdown",
   "metadata": {},
   "source": [
    "#### Model Performance\n",
    "\n",
    "Quantify the performance of the model using google question words."
   ]
  },
  {
   "cell_type": "code",
   "execution_count": 12,
   "metadata": {},
   "outputs": [],
   "source": [
    "# Because of fasttext we don't need to account for OOV\n",
    "def compute_similarity(data_path, model):\n",
    "    def similarity(v1, v2):\n",
    "        n1 = np.linalg.norm(v1)\n",
    "        n2 = np.linalg.norm(v2)\n",
    "        return np.dot(v1, v2) / n1 / n2\n",
    "\n",
    "    mysim = []\n",
    "    gold = []\n",
    "\n",
    "    with open(data_path, 'rb') as fin:\n",
    "        for line in fin:\n",
    "            tline = line.split()\n",
    "            word1 = tline[0].lower()\n",
    "            word2 = tline[1].lower()\n",
    "\n",
    "            v1 = model.get_word_vector(word1)\n",
    "            v2 = model.get_word_vector(word2)\n",
    "            d = similarity(v1, v2)\n",
    "            mysim.append(d)\n",
    "            gold.append(float(tline[2]))\n",
    "\n",
    "    corr = stats.spearmanr(mysim, gold)\n",
    "    dataset = os.path.basename(data_path)\n",
    "    correlation = corr[0] * 100\n",
    "    return dataset, correlation, 0"
   ]
  },
  {
   "cell_type": "code",
   "execution_count": 13,
   "metadata": {},
   "outputs": [
    {
     "name": "stdout",
     "output_type": "stream",
     "text": [
      "rw.txt              : 32  (OOV:  0%)\n"
     ]
    }
   ],
   "source": [
    "dataset, corr, oov = compute_similarity('data/rw/rw.txt', sg_model)\n",
    "print(\"{0:20s}: {1:2.0f}  (OOV: {2:2.0f}%)\".format(dataset, corr, 0))"
   ]
  },
  {
   "cell_type": "code",
   "execution_count": 14,
   "metadata": {},
   "outputs": [
    {
     "name": "stdout",
     "output_type": "stream",
     "text": [
      "rw.txt              : 28  (OOV:  0%)\n"
     ]
    }
   ],
   "source": [
    "dataset, corr, oov = compute_similarity('data/rw/rw.txt', cbow_model)\n",
    "print(\"{0:20s}: {1:2.0f}  (OOV: {2:2.0f}%)\".format(dataset, corr, 0))"
   ]
  },
  {
   "cell_type": "markdown",
   "metadata": {},
   "source": [
    "Using google question-words to compute accuracy of the model."
   ]
  },
  {
   "cell_type": "code",
   "execution_count": 21,
   "metadata": {},
   "outputs": [
    {
     "name": "stdout",
     "output_type": "stream",
     "text": [
      "      capital-common-countries: ACCURACY TOP1: 10.91 %  (12 / 110)\t  Total accuracy: 10.91 %   Semantic accuracy: 10.91 %   Syntactic accuracy: 0.00 %\n",
      "                 capital-world: ACCURACY TOP1: 5.94 %  (13 / 219)\t  Total accuracy: 7.60 %   Semantic accuracy: 7.60 %   Syntactic accuracy: 0.00 %\n",
      "                      currency: ACCURACY TOP1: 0.00 %  (0 / 54)\t  Total accuracy: 6.53 %   Semantic accuracy: 6.53 %   Syntactic accuracy: 0.00 %\n",
      "                 city-in-state: ACCURACY TOP1: 1.92 %  (35 / 1822)\t  Total accuracy: 2.72 %   Semantic accuracy: 2.72 %   Syntactic accuracy: 0.00 %\n",
      "                        family: ACCURACY TOP1: 35.09 %  (120 / 342)\t  Total accuracy: 7.07 %   Semantic accuracy: 7.07 %   Syntactic accuracy: 0.00 %\n",
      "     gram1-adjective-to-adverb: ACCURACY TOP1: 30.54 %  (303 / 992)\t  Total accuracy: 13.65 %   Semantic accuracy: 7.07 %   Syntactic accuracy: 30.54 %\n",
      "                gram2-opposite: ACCURACY TOP1: 23.19 %  (128 / 552)\t  Total accuracy: 14.94 %   Semantic accuracy: 7.07 %   Syntactic accuracy: 27.91 %\n",
      "             gram3-comparative: ACCURACY TOP1: 60.29 %  (803 / 1332)\t  Total accuracy: 26.07 %   Semantic accuracy: 7.07 %   Syntactic accuracy: 42.91 %\n",
      "             gram4-superlative: ACCURACY TOP1: 45.83 %  (484 / 1056)\t  Total accuracy: 29.29 %   Semantic accuracy: 7.07 %   Syntactic accuracy: 43.69 %\n",
      "      gram5-present-participle: ACCURACY TOP1: 35.59 %  (331 / 930)\t  Total accuracy: 30.09 %   Semantic accuracy: 7.07 %   Syntactic accuracy: 42.14 %\n",
      "   gram6-nationality-adjective: ACCURACY TOP1: 27.40 %  (265 / 967)\t  Total accuracy: 29.78 %   Semantic accuracy: 7.07 %   Syntactic accuracy: 39.70 %\n",
      "              gram7-past-tense: ACCURACY TOP1: 23.21 %  (362 / 1560)\t  Total accuracy: 28.74 %   Semantic accuracy: 7.07 %   Syntactic accuracy: 36.22 %\n",
      "                  gram8-plural: ACCURACY TOP1: 41.51 %  (494 / 1190)\t  Total accuracy: 30.11 %   Semantic accuracy: 7.07 %   Syntactic accuracy: 36.95 %\n",
      "            gram9-plural-verbs: ACCURACY TOP1: 44.31 %  (335 / 756)\t  Total accuracy: 31.01 %   Semantic accuracy: 7.07 %   Syntactic accuracy: 37.55 %\n",
      "Questions seen / total: 11882 19544   60.80 %\n"
     ]
    }
   ],
   "source": [
    "def process_question(question, cossims, model, words, vectors):\n",
    "    correct = 0\n",
    "    num_qs = 0\n",
    "    num_lines = 0\n",
    "    for line in question:\n",
    "        num_lines += 1\n",
    "        qwords = line.split()\n",
    "        # We lowercase all words to correspond to the preprocessing\n",
    "        # we applied to our data.\n",
    "        qwords = [x.lower().strip() for x in qwords]\n",
    "        # If one of the words is not in the vocabulary we skip this question\n",
    "        found = True\n",
    "        for w in qwords:\n",
    "            if w not in words:\n",
    "                found = False\n",
    "                break\n",
    "        if not found:\n",
    "            continue\n",
    "        # The first three words form the query\n",
    "        # We retrieve their word vectors and normalize them\n",
    "        query = qwords[:3]\n",
    "        query = [model.get_word_vector(x) for x in query]\n",
    "        query = [x / np.linalg.norm(x) for x in query]\n",
    "        # Get the query vector. Example:\n",
    "        # Germany  - Berlin + France\n",
    "        query = query[1] - query[0] + query[2]\n",
    "        # We don't need to rank all the words, only until we found\n",
    "        # the first word not equal to our set of query words.\n",
    "        ban_set = list(map(lambda x: words.index(x), qwords[:3]))\n",
    "        if words[find_nearest_neighbor(\n",
    "            query, vectors, ban_set, cossims=cossims\n",
    "        )] == qwords[3]:\n",
    "            correct += 1\n",
    "        num_qs += 1\n",
    "    return correct, num_qs, num_lines\n",
    "\n",
    "\n",
    "# We use the same conventions as within compute-accuracy\n",
    "def print_compute_accuracy_score(\n",
    "    question, correct, num_qs, total_accuracy, semantic_accuracy,\n",
    "    syntactic_accuracy\n",
    "):\n",
    "    print(\n",
    "        (\n",
    "            \"{0:>30}: ACCURACY TOP1: {3:.2f} %  ({1} / {2})\\t  Total accuracy: {4:.2f} %   Semantic accuracy: {5:.2f} %   Syntactic accuracy: {6:.2f} %\"\n",
    "        ).format(\n",
    "            question,\n",
    "            correct,\n",
    "            num_qs,\n",
    "            correct / float(num_qs) * 100,\n",
    "            total_accuracy * 100,\n",
    "            semantic_accuracy * 100,\n",
    "            syntactic_accuracy * 100,\n",
    "        )\n",
    "    )\n",
    "\n",
    "\n",
    "threshold = 100000\n",
    "\n",
    "# Retrieve list of normalized word vectors for the first words up\n",
    "# until the threshold count.\n",
    "f = load_model('sg_model.bin')\n",
    "# Gets words with associated frequeny sorted by default by descending order\n",
    "words, freq = f.get_words(include_freq=True)\n",
    "words = words[:threshold]\n",
    "vectors = np.zeros((len(words), f.get_dimension()), dtype=float)\n",
    "for i in range(len(words)):\n",
    "    wv = f.get_word_vector(words[i])\n",
    "    wv = wv / np.linalg.norm(wv)\n",
    "    vectors[i] = wv\n",
    "\n",
    "total_correct = 0\n",
    "total_qs = 0\n",
    "total_num_lines = 0\n",
    "\n",
    "total_se_correct = 0\n",
    "total_se_qs = 0\n",
    "\n",
    "total_sy_correct = 0\n",
    "total_sy_qs = 0\n",
    "\n",
    "qid = 0\n",
    "questions = []\n",
    "with open('questions-words.txt', 'r') as fqw:\n",
    "    questions = fqw.read().split(':')[1:]\n",
    "# For efficiency preallocate the memory to calculate cosine similarities\n",
    "cossims = np.zeros(len(words), dtype=float)\n",
    "for question in questions:\n",
    "    quads = question.split('\\n')\n",
    "    question = quads[0].strip()\n",
    "    quads = quads[1:-1]\n",
    "    correct, num_qs, num_lines = process_question(\n",
    "        quads, cossims, f, words, vectors\n",
    "    )\n",
    "    total_qs += num_qs\n",
    "    total_correct += correct\n",
    "    total_num_lines += num_lines\n",
    "\n",
    "    if (qid < 5):\n",
    "        total_se_correct += correct\n",
    "        total_se_qs += num_qs\n",
    "    else:\n",
    "        total_sy_correct += correct\n",
    "        total_sy_qs += num_qs\n",
    "\n",
    "    print_compute_accuracy_score(\n",
    "        question,\n",
    "        correct,\n",
    "        num_qs,\n",
    "        total_correct / float(total_qs),\n",
    "        total_se_correct / float(total_se_qs) if total_se_qs > 0 else 0,\n",
    "        total_sy_correct / float(total_sy_qs) if total_sy_qs > 0 else 0,\n",
    "    )\n",
    "    qid += 1\n",
    "\n",
    "print(\n",
    "    \"Questions seen / total: {0} {1}   {2:.2f} %\".\n",
    "    format(total_qs, total_num_lines, total_qs / total_num_lines * 100)\n",
    ")"
   ]
  },
  {
   "cell_type": "markdown",
   "metadata": {},
   "source": [
    "#### TSNE visualizations"
   ]
  },
  {
   "cell_type": "code",
   "execution_count": 22,
   "metadata": {},
   "outputs": [],
   "source": [
    "words = ['hot', 'water', 'drink', 'tea', 'cofee', 'cup', \n",
    "         'price', 'buy', 'order', 'recommend', \n",
    "         'different', 'tried', 'been',  'years',\n",
    "         'good', 'nice', 'great', 'delicious']"
   ]
  },
  {
   "cell_type": "code",
   "execution_count": 23,
   "metadata": {},
   "outputs": [],
   "source": [
    "def tsne_plot(model):\n",
    "    \"\"\"\n",
    "    Creates and TSNE model and plots it\n",
    "    inspired from tsne for gensim word2vec: https://www.kaggle.com/jeffd23/visualizing-word-vectors-with-t-sne\n",
    "    \"\"\"\n",
    "    labels = []\n",
    "    tokens = []\n",
    "\n",
    "    for word in model.get_words()[20:300]: # not using the first 20 as they are mostly most common words\n",
    "#     for word in words:\n",
    "        tokens.append(model.get_word_vector(word))\n",
    "        labels.append(word)\n",
    "    \n",
    "    tsne_model = TSNE(perplexity=40, n_components=2, init='pca', n_iter=2500, random_state=23)\n",
    "    new_values = tsne_model.fit_transform(tokens)\n",
    "\n",
    "    x = []\n",
    "    y = []\n",
    "    labeling = []\n",
    "#     for value in new_values:\n",
    "#         x.append(value[0])\n",
    "#         y.append(value[1])\n",
    "    for index, value in enumerate(new_values):\n",
    "        if labels[index] in words:\n",
    "            x.append(value[0])\n",
    "            y.append(value[1])\n",
    "            labeling.append(labels[index])\n",
    "        \n",
    "    plt.figure(figsize=(16, 16)) \n",
    "    for i in range(len(x)):\n",
    "        plt.scatter(x[i],y[i])\n",
    "#         plt.annotate(labels[i],\n",
    "#                      xy=(x[i], y[i]),\n",
    "#                      xytext=(5, 2),\n",
    "#                      textcoords='offset points',\n",
    "#                      ha='right',\n",
    "#                      va='bottom')\n",
    "        plt.annotate(labeling[i],\n",
    "                     xy=(x[i], y[i]),\n",
    "                     xytext=(5, 2),\n",
    "                     textcoords='offset points',\n",
    "                     ha='right',\n",
    "                     va='bottom')\n",
    "    plt.show()"
   ]
  },
  {
   "cell_type": "code",
   "execution_count": 24,
   "metadata": {},
   "outputs": [
    {
     "data": {
      "image/png": "[encoded data removed]",
      "text/plain": [
       "<Figure size 1152x1152 with 1 Axes>"
      ]
     },
     "metadata": {},
     "output_type": "display_data"
    }
   ],
   "source": [
    "tsne_plot(sg_model)"
   ]
  },
  {
   "cell_type": "markdown",
   "metadata": {},
   "source": [
    "You can see that the \"years\", 'different' and 'been' cluster together signifying probably nostalgia; \"recommend\", \"order\", \"buy\" and \"price\" are probably the considerations that the customer takes in when ordering the item; \"good\", \"delicious\", \"great\", \"nice\" are clustered together and \"hot\", \"water\", \"drink\", \"tea\", \"cup\" seem to go together when people are thinking about drinks and beverages."
   ]
  }
 ],
 "metadata": {
  "kernelspec": {
   "display_name": "Python 3",
   "language": "python",
   "name": "python3"
  },
  "language_info": {
   "codemirror_mode": {
    "name": "ipython",
    "version": 3
   },
   "file_extension": ".py",
   "mimetype": "text/x-python",
   "name": "python",
   "nbconvert_exporter": "python",
   "pygments_lexer": "ipython3",
   "version": "3.5.2"
  }
 },
 "nbformat": 4,
 "nbformat_minor": 2
}
