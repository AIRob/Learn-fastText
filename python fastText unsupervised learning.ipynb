{
 "cells": [
  {
   "cell_type": "code",
   "execution_count": 27,
   "metadata": {},
   "outputs": [],
   "source": [
    "import fastText\n",
    "import pandas as pd\n",
    "import re\n",
    "import numpy as np\n",
    "import csv\n",
    "import os\n",
    "from scipy import stats\n",
    "from sklearn.manifold import TSNE\n",
    "import matplotlib.pyplot as plt\n",
    "%matplotlib inline"
   ]
  },
  {
   "cell_type": "code",
   "execution_count": 7,
   "metadata": {},
   "outputs": [],
   "source": [
    "df = pd.read_csv('data/amazon_reviews.csv')\n",
    "df = df['Score', 'Text']\n",
    "df['Text'] = df['Text'].apply(lambda x: re.sub(r\"([.\\\\!?,'/()])\", r\" \\1 \", x.lower()))"
   ]
  },
  {
   "cell_type": "code",
   "execution_count": 21,
   "metadata": {},
   "outputs": [],
   "source": [
    "with open('data/ft_amazon_review_sg.txt', 'w') as f:\n",
    "    for line in df['Text'].values:\n",
    "        f.write(line)\n",
    "        f.write('\\n')"
   ]
  },
  {
   "cell_type": "code",
   "execution_count": 22,
   "metadata": {},
   "outputs": [],
   "source": [
    "sg_model = fastText.train_unsupervised(input='data/ft_amazon_review_sg.txt', model='skipgram', )"
   ]
  },
  {
   "cell_type": "code",
   "execution_count": 24,
   "metadata": {},
   "outputs": [],
   "source": [
    "# Because of fasttext we don't need to account for OOV\n",
    "def compute_similarity(data_path, model):\n",
    "    def similarity(v1, v2):\n",
    "        n1 = np.linalg.norm(v1)\n",
    "        n2 = np.linalg.norm(v2)\n",
    "        return np.dot(v1, v2) / n1 / n2\n",
    "\n",
    "    mysim = []\n",
    "    gold = []\n",
    "\n",
    "    with open(data_path, 'rb') as fin:\n",
    "        for line in fin:\n",
    "            tline = line.split()\n",
    "            word1 = tline[0].lower()\n",
    "            word2 = tline[1].lower()\n",
    "\n",
    "            v1 = model.get_word_vector(word1)\n",
    "            v2 = model.get_word_vector(word2)\n",
    "            d = similarity(v1, v2)\n",
    "            mysim.append(d)\n",
    "            gold.append(float(tline[2]))\n",
    "\n",
    "    corr = stats.spearmanr(mysim, gold)\n",
    "    dataset = os.path.basename(data_path)\n",
    "    correlation = corr[0] * 100\n",
    "    return dataset, correlation, 0"
   ]
  },
  {
   "cell_type": "code",
   "execution_count": 26,
   "metadata": {},
   "outputs": [
    {
     "name": "stdout",
     "output_type": "stream",
     "text": [
      "rw.txt              : 32  (OOV:  0%)\n"
     ]
    }
   ],
   "source": [
    "dataset, corr, oov = compute_similarity('data/rw/rw.txt', sg_model)\n",
    "print(\"{0:20s}: {1:2.0f}  (OOV: {2:2.0f}%)\".format(dataset, corr, 0))"
   ]
  },
  {
   "cell_type": "code",
   "execution_count": 31,
   "metadata": {},
   "outputs": [
    {
     "name": "stdout",
     "output_type": "stream",
     "text": [
      "you\n",
      "with\n",
      "have\n",
      "not\n",
      "are\n",
      "was\n",
      "<br\n",
      "they\n",
      "s\n",
      "t\n",
      "as\n",
      "on\n",
      "><br\n",
      "like\n",
      "so\n",
      "these\n",
      ")\n",
      "them\n",
      "(\n",
      "good\n"
     ]
    }
   ],
   "source": [
    "count = 0\n",
    "for j in sg_model.get_words()[20:]:\n",
    "    print(j)\n",
    "    count += 1\n",
    "    if  count == 20:\n",
    "        break"
   ]
  },
  {
   "cell_type": "code",
   "execution_count": 34,
   "metadata": {},
   "outputs": [
    {
     "data": {
      "text/plain": [
       "array([ 0.09427449,  0.21040338, -0.10112232, -0.18027182, -0.06420133,\n",
       "        0.6949959 , -0.32311782,  0.32558468,  0.2936747 ,  0.13819923,\n",
       "       -0.06235039,  0.24966162, -0.40748212,  0.08620415, -0.1525534 ,\n",
       "        0.09475082, -0.09127166, -0.05679758, -0.08318012,  0.06808638,\n",
       "        0.07992063, -0.08928107,  0.06477964, -0.0811705 , -0.40352845,\n",
       "       -0.23176348,  0.02109735,  0.4525092 ,  0.01557064,  0.34279335,\n",
       "        0.07168002, -0.0627816 , -0.02888379,  0.01262861, -0.24251458,\n",
       "        0.13459975,  0.22922572,  0.15688992,  0.05527925, -0.12706351,\n",
       "       -0.20584743, -0.02566395,  0.27696055,  0.0592207 , -0.13424668,\n",
       "        0.05087655, -0.13432784, -0.05932631, -0.11384568,  0.21147613,\n",
       "       -0.27626792,  0.2689693 , -0.12061743,  0.31388873, -0.0234402 ,\n",
       "       -0.1879519 ,  0.09270612, -0.10146701,  0.25364554, -0.25622493,\n",
       "        0.02512721, -0.01557622,  0.16899529, -0.15504616, -0.08640929,\n",
       "        0.02225807, -0.09254209, -0.30455342,  0.10481967, -0.17306164,\n",
       "        0.16810587,  0.13974436, -0.00492113,  0.10864037, -0.36077532,\n",
       "       -0.03587893,  0.01762248, -0.07593437,  0.01193012,  0.20719351,\n",
       "        0.43876204,  0.074655  , -0.03695922, -0.05089797,  0.14218086,\n",
       "        0.03172705, -0.07966439,  0.60421234, -0.17963712, -0.0662503 ,\n",
       "       -0.15618128,  0.1270097 ,  0.16233885,  0.09530573, -0.3287064 ,\n",
       "       -0.01544058, -0.09839215, -0.1493759 ,  0.44408196, -0.08984345],\n",
       "      dtype=float32)"
      ]
     },
     "execution_count": 34,
     "metadata": {},
     "output_type": "execute_result"
    }
   ],
   "source": [
    "sg_model.get_word_vector('they')"
   ]
  },
  {
   "cell_type": "code",
   "execution_count": 48,
   "metadata": {},
   "outputs": [],
   "source": [
    "words = ['hot', 'water', 'drink', 'tea', 'cofee', 'cup', \n",
    "         'price', 'buy', 'order', 'recommend', \n",
    "         'different', 'tried', 'been',  'years',\n",
    "         'good', 'nice', 'great', 'delicious']"
   ]
  },
  {
   "cell_type": "code",
   "execution_count": 53,
   "metadata": {},
   "outputs": [],
   "source": [
    "def tsne_plot(model):\n",
    "    \"\"\"\n",
    "    Creates and TSNE model and plots it\n",
    "    inspired from tsne for gensim word2vec: https://www.kaggle.com/jeffd23/visualizing-word-vectors-with-t-sne\n",
    "    \"\"\"\n",
    "    labels = []\n",
    "    tokens = []\n",
    "\n",
    "    for word in model.get_words()[20:300]: # not using the first 20 as they are mostly most common words\n",
    "#     for word in words:\n",
    "        tokens.append(model.get_word_vector(word))\n",
    "        labels.append(word)\n",
    "    \n",
    "    tsne_model = TSNE(perplexity=40, n_components=2, init='pca', n_iter=2500, random_state=23)\n",
    "    new_values = tsne_model.fit_transform(tokens)\n",
    "\n",
    "    x = []\n",
    "    y = []\n",
    "    labeling = []\n",
    "#     for value in new_values:\n",
    "#         x.append(value[0])\n",
    "#         y.append(value[1])\n",
    "    for index, value in enumerate(new_values):\n",
    "        if labels[index] in words:\n",
    "            x.append(value[0])\n",
    "            y.append(value[1])\n",
    "            labeling.append(labels[index])\n",
    "        \n",
    "    plt.figure(figsize=(16, 16)) \n",
    "    for i in range(len(x)):\n",
    "        plt.scatter(x[i],y[i])\n",
    "#         plt.annotate(labels[i],\n",
    "#                      xy=(x[i], y[i]),\n",
    "#                      xytext=(5, 2),\n",
    "#                      textcoords='offset points',\n",
    "#                      ha='right',\n",
    "#                      va='bottom')\n",
    "        plt.annotate(labeling[i],\n",
    "                     xy=(x[i], y[i]),\n",
    "                     xytext=(5, 2),\n",
    "                     textcoords='offset points',\n",
    "                     ha='right',\n",
    "                     va='bottom')\n",
    "    plt.show()"
   ]
  },
  {
   "cell_type": "code",
   "execution_count": 54,
   "metadata": {},
   "outputs": [
    {
     "data": {
      "image/png": "[encoded data removed]",
      "text/plain": [
       "<Figure size 1152x1152 with 1 Axes>"
      ]
     },
     "metadata": {},
     "output_type": "display_data"
    }
   ],
   "source": [
    "tsne_plot(sg_model)"
   ]
  },
  {
   "cell_type": "code",
   "execution_count": null,
   "metadata": {},
   "outputs": [],
   "source": []
  }
 ],
 "metadata": {
  "kernelspec": {
   "display_name": "Python 3",
   "language": "python",
   "name": "python3"
  },
  "language_info": {
   "codemirror_mode": {
    "name": "ipython",
    "version": 3
   },
   "file_extension": ".py",
   "mimetype": "text/x-python",
   "name": "python",
   "nbconvert_exporter": "python",
   "pygments_lexer": "ipython3",
   "version": "3.5.2"
  }
 },
 "nbformat": 4,
 "nbformat_minor": 2
}
