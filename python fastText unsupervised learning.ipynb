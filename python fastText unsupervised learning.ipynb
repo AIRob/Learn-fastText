{
 "cells": [
  {
   "cell_type": "code",
   "execution_count": 1,
   "metadata": {},
   "outputs": [],
   "source": [
    "import fastText\n",
    "from fastText.util.util import find_nearest_neighbor\n",
    "import pandas as pd\n",
    "import re\n",
    "import numpy as np\n",
    "import csv\n",
    "import os\n",
    "from scipy import stats\n",
    "from sklearn.manifold import TSNE\n",
    "import matplotlib.pyplot as plt\n",
    "%matplotlib inline"
   ]
  },
  {
   "cell_type": "markdown",
   "metadata": {},
   "source": [
    "### Data preprocessing"
   ]
  },
  {
   "cell_type": "code",
   "execution_count": 2,
   "metadata": {},
   "outputs": [],
   "source": [
    "df = pd.read_csv('data/amazon_reviews.csv')\n",
    "df = df[['Score', 'Text']]\n",
    "df['Text'] = df['Text'].apply(lambda x: re.sub(r\"([.\\\\!?,'/()])\", r\" \\1 \", x.lower()))"
   ]
  },
  {
   "cell_type": "code",
   "execution_count": 3,
   "metadata": {},
   "outputs": [],
   "source": [
    "with open('data/ft_amazon_review_sg.txt', 'w') as f:\n",
    "    for line in df['Text'].values:\n",
    "        f.write(line)\n",
    "        f.write('\\n')"
   ]
  },
  {
   "cell_type": "markdown",
   "metadata": {},
   "source": [
    "### Model training"
   ]
  },
  {
   "cell_type": "markdown",
   "metadata": {},
   "source": [
    "#### Skipgram model"
   ]
  },
  {
   "cell_type": "code",
   "execution_count": 4,
   "metadata": {},
   "outputs": [],
   "source": [
    "sg_model = fastText.train_unsupervised(input='data/ft_amazon_review_sg.txt', model='skipgram')"
   ]
  },
  {
   "cell_type": "markdown",
   "metadata": {},
   "source": [
    "#### CBOW model"
   ]
  },
  {
   "cell_type": "code",
   "execution_count": 5,
   "metadata": {},
   "outputs": [],
   "source": [
    "cbow_model = fastText.train_unsupervised(input='data/ft_amazon_review_sg.txt', model='cbow')"
   ]
  },
  {
   "cell_type": "markdown",
   "metadata": {},
   "source": [
    "### Model Evaluation"
   ]
  },
  {
   "cell_type": "markdown",
   "metadata": {},
   "source": [
    "#### Printing word vectors"
   ]
  },
  {
   "cell_type": "code",
   "execution_count": 6,
   "metadata": {},
   "outputs": [
    {
     "data": {
      "text/plain": [
       "array([ 0.28885147,  0.34310964, -0.06068458, -0.5658382 , -0.25672913,\n",
       "        0.41507494,  0.1411262 , -0.11142749,  0.5796311 ,  0.05652755,\n",
       "       -0.41198856,  0.2445084 ,  0.20226298,  0.22466432,  0.00869949,\n",
       "       -0.42456797,  0.14835362, -0.38931805, -0.170336  , -0.15083621,\n",
       "        0.09204759, -0.11345511,  0.15903142,  0.41930065, -0.17932999,\n",
       "       -0.579378  ,  0.07560825,  0.53409725, -0.20587127,  0.25352234,\n",
       "       -0.395235  ,  0.12970044, -0.2440243 , -0.21013793,  0.21134807,\n",
       "       -0.10953298, -0.24550655,  0.23024896, -0.48733202, -0.24536018,\n",
       "        0.16880575,  0.01380736,  0.02415508,  0.33492976, -0.10089339,\n",
       "        0.03441795, -0.7054811 , -0.6926563 ,  0.32579902,  0.83706576,\n",
       "       -0.22618887, -0.18367031,  0.09906393,  0.28151816,  0.00969056,\n",
       "        0.22166236,  0.09444915, -0.3030114 , -0.1318249 ,  0.28401542,\n",
       "       -0.11216401, -0.13406882, -0.01469294,  0.09450608,  0.12833421,\n",
       "        0.34177524,  0.14439605, -0.12185214,  0.155795  ,  0.00630659,\n",
       "       -0.252737  , -0.4276401 ,  0.25534004, -0.2699899 ,  0.01765037,\n",
       "       -0.16655745,  0.08328927,  0.16654602,  0.20380093,  0.4964867 ,\n",
       "        0.05416179,  0.0408821 , -0.2941231 ,  0.2820766 ,  0.43987966,\n",
       "       -0.20674674, -0.28032628,  0.3633546 , -0.14533707,  0.26353413,\n",
       "       -0.5046703 ,  0.5613324 , -0.3175514 , -0.05989096,  0.13996765,\n",
       "        0.1576359 ,  0.31373855, -0.06571217,  0.31734183,  0.2355971 ],\n",
       "      dtype=float32)"
      ]
     },
     "execution_count": 6,
     "metadata": {},
     "output_type": "execute_result"
    }
   ],
   "source": [
    "sg_model.get_word_vector('chocolate')"
   ]
  },
  {
   "cell_type": "code",
   "execution_count": 7,
   "metadata": {},
   "outputs": [
    {
     "name": "stdout",
     "output_type": "stream",
     "text": [
      "(['something', '<so', '<som', '<some', '<somet', 'som', 'some', 'somet', 'someth', 'ome', 'omet', 'ometh', 'omethi', 'met', 'meth', 'methi', 'methin', 'eth', 'ethi', 'ethin', 'ething', 'thi', 'thin', 'thing', 'thing>', 'hin', 'hing', 'hing>', 'ing', 'ing>', 'ng>'], array([    168, 1748605,  623824, 1031135,  992673,  491062, 1290905,\n",
      "        219015,   88509, 1290412, 1992184,  616400, 1709691, 1420625,\n",
      "       1547131,  490230,  150536, 1329700,  985911,  363099, 1243108,\n",
      "       2035600, 2038170,  420919,  557515,   93124,  238793,  299125,\n",
      "        834851,  653895,  280444]))\n"
     ]
    }
   ],
   "source": [
    "print(sg_model.get_subwords('something'))"
   ]
  },
  {
   "cell_type": "markdown",
   "metadata": {},
   "source": [
    "#### Nearest Neighbor Queries"
   ]
  },
  {
   "cell_type": "code",
   "execution_count": 25,
   "metadata": {},
   "outputs": [],
   "source": [
    "def get_nn_words(question, cossims, model, words, vectors, k=1):\n",
    "    question = question.lower().strip()\n",
    "    if question not in words:\n",
    "        print(question, ' not in vocabulary')\n",
    "    query = question\n",
    "    query = model.get_word_vector(query)\n",
    "    query = query / np.linalg.norm(query)\n",
    "    seen_words = [question]\n",
    "    for _ in range(k):\n",
    "        ban_set = list(map(lambda x: words.index(x), seen_words))\n",
    "        nn = words[find_nearest_neighbor(query, vectors, ban_set, cossims=cossims)]\n",
    "        seen_words.append(nn)\n",
    "        yield nn\n",
    "\n",
    "def nn(model, question_words, k, threshold=100000):\n",
    "    # Gets words with associated frequeny sorted by default by descending order\n",
    "    words, freq = model.get_words(include_freq=True)\n",
    "    words = words[:threshold]\n",
    "    vectors = np.zeros((len(words), model.get_dimension()), dtype=float)\n",
    "    for i in range(len(words)):\n",
    "        wv = model.get_word_vector(words[i])\n",
    "        wv = wv / np.linalg.norm(wv)\n",
    "        vectors[i] = wv\n",
    "\n",
    "    # For efficiency preallocate the memory to calculate cosine similarities\n",
    "    cossims = np.zeros(len(words), dtype=float)\n",
    "    if isinstance(question_words, str):\n",
    "        questions = question_words.split(',')\n",
    "    elif isinstance(question_words, list):\n",
    "        questions = question_words\n",
    "    else:\n",
    "        raise ValueError('please give question_words as a comma separated string or list')\n",
    "    for question in questions:\n",
    "        print('words similar to {}:'.format(question))\n",
    "        for w in get_nn_words(question, cossims, model, words, vectors, k):\n",
    "            print(w)\n",
    "        print('#########################################')"
   ]
  },
  {
   "cell_type": "code",
   "execution_count": 26,
   "metadata": {},
   "outputs": [
    {
     "name": "stdout",
     "output_type": "stream",
     "text": [
      "words similar to dog:\n",
      "dogs\n",
      "pup\n",
      "puppy\n",
      "treats\n",
      "v-dog\n",
      "#########################################\n",
      "words similar to pizza:\n",
      "pizza;\n",
      "pizzas\n",
      "pizza\"\n",
      "boboli\n",
      "\"pizza\n",
      "#########################################\n",
      "words similar to hungry:\n",
      "hungry\";\n",
      ">hungry\n",
      "hungrygirl\n",
      "hungry-girl\n",
      "hungries\n",
      "#########################################\n"
     ]
    }
   ],
   "source": [
    "nn(sg_model, ['dog', 'pizza', 'hungry'], k=5)"
   ]
  },
  {
   "cell_type": "code",
   "execution_count": null,
   "metadata": {},
   "outputs": [],
   "source": [
    "print(correct, num_qs, num_lines)"
   ]
  },
  {
   "cell_type": "markdown",
   "metadata": {},
   "source": [
    "#### Word analogies"
   ]
  },
  {
   "cell_type": "code",
   "execution_count": null,
   "metadata": {},
   "outputs": [],
   "source": []
  },
  {
   "cell_type": "code",
   "execution_count": null,
   "metadata": {},
   "outputs": [],
   "source": []
  },
  {
   "cell_type": "code",
   "execution_count": null,
   "metadata": {},
   "outputs": [],
   "source": []
  },
  {
   "cell_type": "markdown",
   "metadata": {},
   "source": [
    "#### Word Similarity\n",
    "\n",
    "You can find similar words by calculating the cosine similarity between the vectors of words. There are many other functions that you can use to find the similarity. There is also the word mover distance which we will take a look at when we are looking at gensim models."
   ]
  },
  {
   "cell_type": "code",
   "execution_count": 28,
   "metadata": {},
   "outputs": [
    {
     "name": "stdout",
     "output_type": "stream",
     "text": [
      "0.78552675\n",
      "0.8144023\n"
     ]
    }
   ],
   "source": [
    "def similarity(v1, v2):\n",
    "    n1 = np.linalg.norm(v1)\n",
    "    n2 = np.linalg.norm(v2)\n",
    "    return np.dot(v1, v2) / n1 / n2\n",
    "\n",
    "v1 = sg_model.get_word_vector('drink')\n",
    "v2 = sg_model.get_word_vector('drinks')\n",
    "print(similarity(v1, v2))\n",
    "\n",
    "v1 = cbow_model.get_word_vector('drink')\n",
    "v2 = cbow_model.get_word_vector('drinks')\n",
    "print(similarity(v1, v2))"
   ]
  },
  {
   "cell_type": "markdown",
   "metadata": {},
   "source": [
    "#### Model Performance\n",
    "\n",
    "Quantify the performance of the model using google question words."
   ]
  },
  {
   "cell_type": "code",
   "execution_count": 29,
   "metadata": {},
   "outputs": [],
   "source": [
    "# Because of fasttext we don't need to account for OOV\n",
    "def compute_similarity(data_path, model):\n",
    "    def similarity(v1, v2):\n",
    "        n1 = np.linalg.norm(v1)\n",
    "        n2 = np.linalg.norm(v2)\n",
    "        return np.dot(v1, v2) / n1 / n2\n",
    "\n",
    "    mysim = []\n",
    "    gold = []\n",
    "\n",
    "    with open(data_path, 'rb') as fin:\n",
    "        for line in fin:\n",
    "            tline = line.split()\n",
    "            word1 = tline[0].lower()\n",
    "            word2 = tline[1].lower()\n",
    "\n",
    "            v1 = model.get_word_vector(word1)\n",
    "            v2 = model.get_word_vector(word2)\n",
    "            d = similarity(v1, v2)\n",
    "            mysim.append(d)\n",
    "            gold.append(float(tline[2]))\n",
    "\n",
    "    corr = stats.spearmanr(mysim, gold)\n",
    "    dataset = os.path.basename(data_path)\n",
    "    correlation = corr[0] * 100\n",
    "    return dataset, correlation, 0"
   ]
  },
  {
   "cell_type": "code",
   "execution_count": 30,
   "metadata": {},
   "outputs": [
    {
     "name": "stdout",
     "output_type": "stream",
     "text": [
      "rw.txt              : 32  (OOV:  0%)\n"
     ]
    }
   ],
   "source": [
    "dataset, corr, oov = compute_similarity('data/rw/rw.txt', sg_model)\n",
    "print(\"{0:20s}: {1:2.0f}  (OOV: {2:2.0f}%)\".format(dataset, corr, 0))"
   ]
  },
  {
   "cell_type": "code",
   "execution_count": 31,
   "metadata": {},
   "outputs": [
    {
     "name": "stdout",
     "output_type": "stream",
     "text": [
      "rw.txt              : 28  (OOV:  0%)\n"
     ]
    }
   ],
   "source": [
    "dataset, corr, oov = compute_similarity('data/rw/rw.txt', cbow_model)\n",
    "print(\"{0:20s}: {1:2.0f}  (OOV: {2:2.0f}%)\".format(dataset, corr, 0))"
   ]
  },
  {
   "cell_type": "markdown",
   "metadata": {},
   "source": [
    "#### TSNE visualizations"
   ]
  },
  {
   "cell_type": "code",
   "execution_count": 32,
   "metadata": {},
   "outputs": [],
   "source": [
    "words = ['hot', 'water', 'drink', 'tea', 'cofee', 'cup', \n",
    "         'price', 'buy', 'order', 'recommend', \n",
    "         'different', 'tried', 'been',  'years',\n",
    "         'good', 'nice', 'great', 'delicious']"
   ]
  },
  {
   "cell_type": "code",
   "execution_count": 33,
   "metadata": {},
   "outputs": [],
   "source": [
    "def tsne_plot(model):\n",
    "    \"\"\"\n",
    "    Creates and TSNE model and plots it\n",
    "    inspired from tsne for gensim word2vec: https://www.kaggle.com/jeffd23/visualizing-word-vectors-with-t-sne\n",
    "    \"\"\"\n",
    "    labels = []\n",
    "    tokens = []\n",
    "\n",
    "    for word in model.get_words()[20:300]: # not using the first 20 as they are mostly most common words\n",
    "#     for word in words:\n",
    "        tokens.append(model.get_word_vector(word))\n",
    "        labels.append(word)\n",
    "    \n",
    "    tsne_model = TSNE(perplexity=40, n_components=2, init='pca', n_iter=2500, random_state=23)\n",
    "    new_values = tsne_model.fit_transform(tokens)\n",
    "\n",
    "    x = []\n",
    "    y = []\n",
    "    labeling = []\n",
    "#     for value in new_values:\n",
    "#         x.append(value[0])\n",
    "#         y.append(value[1])\n",
    "    for index, value in enumerate(new_values):\n",
    "        if labels[index] in words:\n",
    "            x.append(value[0])\n",
    "            y.append(value[1])\n",
    "            labeling.append(labels[index])\n",
    "        \n",
    "    plt.figure(figsize=(16, 16)) \n",
    "    for i in range(len(x)):\n",
    "        plt.scatter(x[i],y[i])\n",
    "#         plt.annotate(labels[i],\n",
    "#                      xy=(x[i], y[i]),\n",
    "#                      xytext=(5, 2),\n",
    "#                      textcoords='offset points',\n",
    "#                      ha='right',\n",
    "#                      va='bottom')\n",
    "        plt.annotate(labeling[i],\n",
    "                     xy=(x[i], y[i]),\n",
    "                     xytext=(5, 2),\n",
    "                     textcoords='offset points',\n",
    "                     ha='right',\n",
    "                     va='bottom')\n",
    "    plt.show()"
   ]
  },
  {
   "cell_type": "code",
   "execution_count": 34,
   "metadata": {},
   "outputs": [
    {
     "data": {
      "image/png": "[encoded data removed]",
      "text/plain": [
       "<Figure size 1152x1152 with 1 Axes>"
      ]
     },
     "metadata": {},
     "output_type": "display_data"
    }
   ],
   "source": [
    "tsne_plot(sg_model)"
   ]
  },
  {
   "cell_type": "markdown",
   "metadata": {},
   "source": [
    "You can see that the \"years\", 'different' and 'been' cluster together signifying probably nostalgia; \"recommend\", \"order\", \"buy\" and \"price\" are probably the considerations that the customer takes in when ordering the item; \"good\", \"delicious\", \"great\", \"nice\" are clustered together and \"hot\", \"water\", \"drink\", \"tea\", \"cup\" seem to go together when people are thinking about drinks and beverages."
   ]
  }
 ],
 "metadata": {
  "kernelspec": {
   "display_name": "Python 3",
   "language": "python",
   "name": "python3"
  },
  "language_info": {
   "codemirror_mode": {
    "name": "ipython",
    "version": 3
   },
   "file_extension": ".py",
   "mimetype": "text/x-python",
   "name": "python",
   "nbconvert_exporter": "python",
   "pygments_lexer": "ipython3",
   "version": "3.5.2"
  }
 },
 "nbformat": 4,
 "nbformat_minor": 2
}
